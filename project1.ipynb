{
 "cells": [
  {
   "cell_type": "markdown",
   "metadata": {},
   "source": [
    "###### World Progress"
   ]
  },
  {
   "cell_type": "markdown",
   "metadata": {},
   "source": [
    "In this project, you'll explore data from [Gapminder.org](http://gapminder.org), a website dedicated to providing a fact-based view of the world and how it has changed. That site includes several data visualizations and presentations, but also publishes the raw data that we will use in this project to recreate and extend some of their most famous visualizations.\n",
    "\n",
    "The Gapminder website collects data from many sources and compiles them into tables that describe many countries around the world. All of the data they aggregate are published in the [Systema Globalis](https://github.com/open-numbers/ddf--gapminder--systema_globalis/blob/master/README.md). Their goal is \"to compile all public statistics; Social, Economic and Environmental; into a comparable total dataset.\" All data sets in this project are copied directly from the Systema Globalis without any changes.\n",
    "\n",
    "This project is dedicated to [Hans Rosling](https://en.wikipedia.org/wiki/Hans_Rosling) (1948-2017), who championed the use of data to understand and prioritize global development challenges.\n",
    "\n",
    "### Logistics\n",
    "\n",
    "**Deadline.** This project is due at 11:59pm on Thursday 9/28. Late submissions will be accepted until Sunday 10/1, but a 33.33% late penalty will be applied for each day late. It's **much** better to be early than late, so start working now.\n",
    "\n",
    "**Checkpoint.** For full credit, you must also complete the first 8 questions and submit them by 11:59pm on Friday 9/22. You will have some lab time to work on these questions, but we recommend that you start the project before lab and leave time to finish the checkpoint afterward.\n",
    "\n",
    "**Partners.** You may work with one other partner. It's best to work with someone in your lab. Only one of you is required to submit the project. On [okpy.org](http://okpy.org), the person who submits should also designate their partner so that both of you receive credit.\n",
    "\n",
    "**Rules.** Don't share your code with anybody but your partner. You are welcome to discuss questions with other students, but don't share the answers. The experience of solving the problems in this project will prepare you for exams (and life). If someone asks you for the answer, resist! Instead, you can demonstrate how you would solve a similar problem.\n",
    "\n",
    "**Support.** You are not alone! Come to office hours, post on Piazza, and talk to your classmates. If you want to ask about the details of your solution to a problem, make a private Piazza post and the staff will respond. If you're ever feeling overwhelmed or don't know how to make progress, email your TA or tutor for help. You can find contact information for the staff on the [course website](http://data8.org/sp17/staff.html).\n",
    "\n",
    "**Tests.** Passing the tests for a question **does not** mean that you answered the question correctly. Tests usually only check that your table has the correct column labels. However, more tests will be applied to verify the correctness of your submission in order to assign your final score, so be careful and check your work!\n",
    "\n",
    "**Advice.** Develop your answers incrementally. To perform a complicated table manipulation, break it up into steps, perform each step on a different line, give a new name to each result, and check that each intermediate result is what you expect. You can add any additional names or functions you want to the provided cells. \n",
    "\n",
    "To get started, load `datascience`, `numpy`, `plots`, and `ok`."
   ]
  },
  {
   "cell_type": "code",
   "execution_count": 1,
   "metadata": {},
   "outputs": [
    {
     "name": "stdout",
     "output_type": "stream",
     "text": [
      "=====================================================================\n",
      "Assignment: World Progress\n",
      "OK, version v1.12.5\n",
      "=====================================================================\n",
      "\n",
      "Successfully logged in as sofiaguo@berkeley.edu\n"
     ]
    }
   ],
   "source": [
    "from datascience import *\n",
    "import numpy as np\n",
    "\n",
    "%matplotlib inline\n",
    "import matplotlib.pyplot as plots\n",
    "plots.style.use('fivethirtyeight')\n",
    "\n",
    "from client.api.notebook import Notebook\n",
    "ok = Notebook('project1.ok')\n",
    "_ = ok.auth(inline=True)"
   ]
  },
  {
   "cell_type": "markdown",
   "metadata": {
    "deletable": false,
    "editable": false
   },
   "source": [
    "## 1. Global Population Growth\n"
   ]
  },
  {
   "cell_type": "markdown",
   "metadata": {
    "deletable": false,
    "editable": false
   },
   "source": [
    "The global population of humans reached 1 billion around 1800, 3 billion around 1960, and 7 billion around 2011. The potential impact of exponential population growth has concerned scientists, economists, and politicians alike.\n",
    "\n",
    "The UN Population Division estimates that the world population will likely continue to grow throughout the 21st century, but at a slower rate, perhaps reaching 11 billion by 2100. However, the UN does not rule out scenarios of more extreme growth.\n",
    "\n",
    "<a href=\"http://www.pewresearch.org/fact-tank/2015/06/08/scientists-more-worried-than-public-about-worlds-growing-population/ft_15-06-04_popcount/\"> \n",
    " <img src=\"pew_population_projection.png\"/> \n",
    "</a>\n",
    "\n",
    "In this section, we will examine some of the factors that influence population growth and how they are changing around the world."
   ]
  },
  {
   "cell_type": "markdown",
   "metadata": {
    "deletable": false,
    "editable": false
   },
   "source": [
    "The first table we will consider is the total population of each country over time. Run the cell below."
   ]
  },
  {
   "cell_type": "code",
   "execution_count": 2,
   "metadata": {
    "deletable": false,
    "editable": false
   },
   "outputs": [
    {
     "data": {
      "text/html": [
       "<table border=\"1\" class=\"dataframe\">\n",
       "    <thead>\n",
       "        <tr>\n",
       "            <th>geo</th> <th>time</th> <th>population_total</th>\n",
       "        </tr>\n",
       "    </thead>\n",
       "    <tbody>\n",
       "        <tr>\n",
       "            <td>abw </td> <td>1800</td> <td>19286           </td>\n",
       "        </tr>\n",
       "    </tbody>\n",
       "        <tr>\n",
       "            <td>abw </td> <td>1801</td> <td>19286           </td>\n",
       "        </tr>\n",
       "    </tbody>\n",
       "        <tr>\n",
       "            <td>abw </td> <td>1802</td> <td>19286           </td>\n",
       "        </tr>\n",
       "    </tbody>\n",
       "</table>\n",
       "<p>... (87792 rows omitted)</p"
      ],
      "text/plain": [
       "<IPython.core.display.HTML object>"
      ]
     },
     "metadata": {},
     "output_type": "display_data"
    }
   ],
   "source": [
    "# The population.csv file can also be found online here:\n",
    "# https://github.com/open-numbers/ddf--gapminder--systema_globalis/raw/master/ddf--datapoints--population_total--by--geo--time.csv\n",
    "# The version in this project was downloaded in February, 2017.\n",
    "population = Table.read_table('population.csv')\n",
    "population.show(3)"
   ]
  },
  {
   "cell_type": "markdown",
   "metadata": {
    "deletable": false,
    "editable": false
   },
   "source": [
    "### Bangladesh\n",
    "\n",
    "In the `population` table, the `geo` column contains three-letter codes established by the [International Organization for Standardization](https://en.wikipedia.org/wiki/International_Organization_for_Standardization) (ISO) in the [Alpha-3](https://en.wikipedia.org/wiki/ISO_3166-1_alpha-3#Current_codes) standard. We will begin by taking a close look at Bangladesh. Inspect the standard to find the 3-letter code for Bangladesh."
   ]
  },
  {
   "cell_type": "markdown",
   "metadata": {
    "deletable": false,
    "editable": false
   },
   "source": [
    "**Question 1.** Create a table called `b_pop` that has two columns labeled `time` and `population_total`. The first column should contain the years from 1970 through 2015 (including both 1970 and 2015) and the second should contain the population of Bangladesh in each of those years."
   ]
  },
  {
   "cell_type": "code",
   "execution_count": 3,
   "metadata": {
    "deletable": false
   },
   "outputs": [
    {
     "data": {
      "text/html": [
       "<table border=\"1\" class=\"dataframe\">\n",
       "    <thead>\n",
       "        <tr>\n",
       "            <th>time</th> <th>population_total</th>\n",
       "        </tr>\n",
       "    </thead>\n",
       "    <tbody>\n",
       "        <tr>\n",
       "            <td>1970</td> <td>65048701        </td>\n",
       "        </tr>\n",
       "    </tbody>\n",
       "        <tr>\n",
       "            <td>1971</td> <td>66417450        </td>\n",
       "        </tr>\n",
       "    </tbody>\n",
       "        <tr>\n",
       "            <td>1972</td> <td>67578486        </td>\n",
       "        </tr>\n",
       "    </tbody>\n",
       "        <tr>\n",
       "            <td>1973</td> <td>68658472        </td>\n",
       "        </tr>\n",
       "    </tbody>\n",
       "        <tr>\n",
       "            <td>1974</td> <td>69837960        </td>\n",
       "        </tr>\n",
       "    </tbody>\n",
       "        <tr>\n",
       "            <td>1975</td> <td>71247153        </td>\n",
       "        </tr>\n",
       "    </tbody>\n",
       "        <tr>\n",
       "            <td>1976</td> <td>72930206        </td>\n",
       "        </tr>\n",
       "    </tbody>\n",
       "        <tr>\n",
       "            <td>1977</td> <td>74848466        </td>\n",
       "        </tr>\n",
       "    </tbody>\n",
       "        <tr>\n",
       "            <td>1978</td> <td>76948378        </td>\n",
       "        </tr>\n",
       "    </tbody>\n",
       "        <tr>\n",
       "            <td>1979</td> <td>79141947        </td>\n",
       "        </tr>\n",
       "    </tbody>\n",
       "</table>\n",
       "<p>... (36 rows omitted)</p"
      ],
      "text/plain": [
       "time | population_total\n",
       "1970 | 65048701\n",
       "1971 | 66417450\n",
       "1972 | 67578486\n",
       "1973 | 68658472\n",
       "1974 | 69837960\n",
       "1975 | 71247153\n",
       "1976 | 72930206\n",
       "1977 | 74848466\n",
       "1978 | 76948378\n",
       "1979 | 79141947\n",
       "... (36 rows omitted)"
      ]
     },
     "execution_count": 3,
     "metadata": {},
     "output_type": "execute_result"
    }
   ],
   "source": [
    "years = population.where('time', are.between(1970, 2016))\n",
    "bang = years.where('geo', are.equal_to('bgd'))\n",
    "\n",
    "b_pop = bang.drop('geo')\n",
    "b_pop\n"
   ]
  },
  {
   "cell_type": "code",
   "execution_count": 4,
   "metadata": {
    "deletable": false,
    "editable": false,
    "scrolled": false
   },
   "outputs": [
    {
     "name": "stdout",
     "output_type": "stream",
     "text": [
      "~~~~~~~~~~~~~~~~~~~~~~~~~~~~~~~~~~~~~~~~~~~~~~~~~~~~~~~~~~~~~~~~~~~~~\n",
      "Running tests\n",
      "\n",
      "---------------------------------------------------------------------\n",
      "Test summary\n",
      "    Passed: 3\n",
      "    Failed: 0\n",
      "[ooooooooook] 100.0% passed\n",
      "\n"
     ]
    }
   ],
   "source": [
    "_ = ok.grade('q1_1')"
   ]
  },
  {
   "cell_type": "markdown",
   "metadata": {
    "deletable": false,
    "editable": false
   },
   "source": [
    "Run the following cell to create a table called `b_five` that has the population of Bangladesh every five years. At a glance, it appears that the population of Bangladesh has been growing quickly indeed!"
   ]
  },
  {
   "cell_type": "code",
   "execution_count": 5,
   "metadata": {
    "deletable": false,
    "editable": false
   },
   "outputs": [
    {
     "data": {
      "text/html": [
       "<table border=\"1\" class=\"dataframe\">\n",
       "    <thead>\n",
       "        <tr>\n",
       "            <th>time</th> <th>population_total</th>\n",
       "        </tr>\n",
       "    </thead>\n",
       "    <tbody>\n",
       "        <tr>\n",
       "            <td>1970</td> <td>65,048,701      </td>\n",
       "        </tr>\n",
       "    </tbody>\n",
       "        <tr>\n",
       "            <td>1975</td> <td>71,247,153      </td>\n",
       "        </tr>\n",
       "    </tbody>\n",
       "        <tr>\n",
       "            <td>1980</td> <td>81,364,176      </td>\n",
       "        </tr>\n",
       "    </tbody>\n",
       "        <tr>\n",
       "            <td>1985</td> <td>93,015,182      </td>\n",
       "        </tr>\n",
       "    </tbody>\n",
       "        <tr>\n",
       "            <td>1990</td> <td>105,983,136     </td>\n",
       "        </tr>\n",
       "    </tbody>\n",
       "        <tr>\n",
       "            <td>1995</td> <td>118,427,768     </td>\n",
       "        </tr>\n",
       "    </tbody>\n",
       "        <tr>\n",
       "            <td>2000</td> <td>131,280,739     </td>\n",
       "        </tr>\n",
       "    </tbody>\n",
       "        <tr>\n",
       "            <td>2005</td> <td>142,929,979     </td>\n",
       "        </tr>\n",
       "    </tbody>\n",
       "        <tr>\n",
       "            <td>2010</td> <td>151,616,777     </td>\n",
       "        </tr>\n",
       "    </tbody>\n",
       "        <tr>\n",
       "            <td>2015</td> <td>160,995,642     </td>\n",
       "        </tr>\n",
       "    </tbody>\n",
       "</table>"
      ],
      "text/plain": [
       "time | population_total\n",
       "1970 | 65,048,701\n",
       "1975 | 71,247,153\n",
       "1980 | 81,364,176\n",
       "1985 | 93,015,182\n",
       "1990 | 105,983,136\n",
       "1995 | 118,427,768\n",
       "2000 | 131,280,739\n",
       "2005 | 142,929,979\n",
       "2010 | 151,616,777\n",
       "2015 | 160,995,642"
      ]
     },
     "execution_count": 5,
     "metadata": {},
     "output_type": "execute_result"
    }
   ],
   "source": [
    "b_pop.set_format('population_total', NumberFormatter)\n",
    "\n",
    "fives = np.arange(1970, 2016, 5) # 1970, 1975, 1980, ...\n",
    "b_five = b_pop.sort('time').where('time', are.contained_in(fives))\n",
    "b_five"
   ]
  },
  {
   "cell_type": "markdown",
   "metadata": {
    "deletable": false,
    "editable": false
   },
   "source": [
    "**Question 2.** Create a table called `b_five_growth` that includes three columns, `time`, `population_total`, and `annual_growth`. There should be one row for every five years from 1970 through 2010 (but not 2015). The first two columns are the same as `b_five`. The third column is the **annual** growth rate for each five-year period. For example, the annual growth rate for 1975 is the yearly exponential growth rate that describes the total growth from 1975 to 1980 when applied 5 times. (Consult the [Growth Rates](https://www.inferentialthinking.com/chapters/03/3/1/example-growth-rates.html) example in the textbook to help understand how to compute the **annual** growth rate)\n",
    "\n",
    "*Hint*: Only your `b_five_growth` table will be scored for correctness; the other names are suggestions that you are welcome to use, change, or delete."
   ]
  },
  {
   "cell_type": "code",
   "execution_count": 6,
   "metadata": {
    "deletable": false
   },
   "outputs": [
    {
     "data": {
      "text/html": [
       "<table border=\"1\" class=\"dataframe\">\n",
       "    <thead>\n",
       "        <tr>\n",
       "            <th>time</th> <th>population_total</th> <th>annual_growth</th>\n",
       "        </tr>\n",
       "    </thead>\n",
       "    <tbody>\n",
       "        <tr>\n",
       "            <td>1970</td> <td>65,048,701      </td> <td>1.91%        </td>\n",
       "        </tr>\n",
       "    </tbody>\n",
       "        <tr>\n",
       "            <td>1975</td> <td>71,247,153      </td> <td>2.84%        </td>\n",
       "        </tr>\n",
       "    </tbody>\n",
       "        <tr>\n",
       "            <td>1980</td> <td>81,364,176      </td> <td>2.86%        </td>\n",
       "        </tr>\n",
       "    </tbody>\n",
       "        <tr>\n",
       "            <td>1985</td> <td>93,015,182      </td> <td>2.79%        </td>\n",
       "        </tr>\n",
       "    </tbody>\n",
       "        <tr>\n",
       "            <td>1990</td> <td>105,983,136     </td> <td>2.35%        </td>\n",
       "        </tr>\n",
       "    </tbody>\n",
       "        <tr>\n",
       "            <td>1995</td> <td>118,427,768     </td> <td>2.17%        </td>\n",
       "        </tr>\n",
       "    </tbody>\n",
       "        <tr>\n",
       "            <td>2000</td> <td>131,280,739     </td> <td>1.77%        </td>\n",
       "        </tr>\n",
       "    </tbody>\n",
       "        <tr>\n",
       "            <td>2005</td> <td>142,929,979     </td> <td>1.22%        </td>\n",
       "        </tr>\n",
       "    </tbody>\n",
       "        <tr>\n",
       "            <td>2010</td> <td>151,616,777     </td> <td>1.24%        </td>\n",
       "        </tr>\n",
       "    </tbody>\n",
       "</table>"
      ],
      "text/plain": [
       "time | population_total | annual_growth\n",
       "1970 | 65,048,701       | 1.91%\n",
       "1975 | 71,247,153       | 2.84%\n",
       "1980 | 81,364,176       | 2.86%\n",
       "1985 | 93,015,182       | 2.79%\n",
       "1990 | 105,983,136      | 2.35%\n",
       "1995 | 118,427,768      | 2.17%\n",
       "2000 | 131,280,739      | 1.77%\n",
       "2005 | 142,929,979      | 1.22%\n",
       "2010 | 151,616,777      | 1.24%"
      ]
     },
     "execution_count": 6,
     "metadata": {},
     "output_type": "execute_result"
    }
   ],
   "source": [
    "import numpy as np\n",
    "b_1970_through_2010 = b_five.where('time', are.between(1970, 2011))\n",
    "initial = b_five.take(np.arange(0, 9, 1)).column('population_total')\n",
    "\n",
    "changed = b_five.take(np.arange(1, 10, 1)).column('population_total')\n",
    "rate = ((changed-initial)/initial)/5\n",
    "b_five_growth = b_1970_through_2010.with_columns(\n",
    "    'annual_growth', rate\n",
    ")\n",
    "b_five_growth.set_format('annual_growth', PercentFormatter)\n"
   ]
  },
  {
   "cell_type": "code",
   "execution_count": 7,
   "metadata": {
    "deletable": false,
    "editable": false
   },
   "outputs": [
    {
     "name": "stdout",
     "output_type": "stream",
     "text": [
      "~~~~~~~~~~~~~~~~~~~~~~~~~~~~~~~~~~~~~~~~~~~~~~~~~~~~~~~~~~~~~~~~~~~~~\n",
      "Running tests\n",
      "\n",
      "---------------------------------------------------------------------\n",
      "Test summary\n",
      "    Passed: 4\n",
      "    Failed: 0\n",
      "[ooooooooook] 100.0% passed\n",
      "\n"
     ]
    }
   ],
   "source": [
    "_ = ok.grade('q1_2')"
   ]
  },
  {
   "cell_type": "markdown",
   "metadata": {
    "deletable": false,
    "editable": false
   },
   "source": [
    "While the population has grown every five years since 1970, the annual growth rate decreased dramatically from 1985 to 2005. Let's look at some other information in order to develop a possible explanation. Run the next cell to load three additional tables of measurements about countries over time."
   ]
  },
  {
   "cell_type": "code",
   "execution_count": 8,
   "metadata": {
    "collapsed": true,
    "deletable": false,
    "editable": false
   },
   "outputs": [],
   "source": [
    "life_expectancy = Table.read_table('life_expectancy.csv')\n",
    "child_mortality = Table.read_table('child_mortality.csv').relabeled(2, 'child_mortality_under_5_per_1000_born')\n",
    "fertility = Table.read_table('fertility.csv')"
   ]
  },
  {
   "cell_type": "markdown",
   "metadata": {
    "deletable": false,
    "editable": false
   },
   "source": [
    "The `life_expectancy` table contains a statistic that is often used to measure how long people live, called *life expectancy at birth*. This number, for a country in a given year, [does not measure how long babies born in that year are expected to live](http://blogs.worldbank.org/opendata/what-does-life-expectancy-birth-really-mean). Instead, it measures how long someone would live, on average, if the *mortality conditions* in that year persisted throughout their lifetime. These \"mortality conditions\" describe what fraction of people at each age survived the year. So, it is a way of measuring the proportion of people that are staying alive, aggregated over different age groups in the population."
   ]
  },
  {
   "cell_type": "markdown",
   "metadata": {
    "deletable": false,
    "editable": false
   },
   "source": [
    "**Question 3.** Perhaps population is growing more slowly because people aren't living as long. Use the `life_expectancy` table to draw a line graph with the years 1970 and later on the horizontal axis that shows how the *life expectancy at birth* has changed in Bangladesh."
   ]
  },
  {
   "cell_type": "code",
   "execution_count": 9,
   "metadata": {
    "deletable": false,
    "manual_grade": true,
    "manual_problem_id": "global_pop_3"
   },
   "outputs": [
    {
     "data": {
      "image/png": "[encoded data removed]",
      "text/plain": [
       "<matplotlib.figure.Figure at 0x7f8b3f02a3c8>"
      ]
     },
     "metadata": {},
     "output_type": "display_data"
    }
   ],
   "source": [
    "life_expectancy.where('geo', are.equal_to('bgd')).where('time', are.above_or_equal_to(1970)).drop('geo').plot('time') "
   ]
  },
  {
   "cell_type": "markdown",
   "metadata": {
    "deletable": false,
    "editable": false
   },
   "source": [
    "**Question 4.** Does the graph above help directly explain why the population growth rate decreased from 1985 to 2010 in Bangladesh? Why or why not? What happened in Bangladesh in 1991, and does that event explain the change in population growth rate?"
   ]
  },
  {
   "cell_type": "markdown",
   "metadata": {
    "collapsed": true,
    "deletable": false,
    "manual_grade": true,
    "manual_problem_id": "global_pop_4"
   },
   "source": [
    "*The graph does show that the slope of the life expectancy line becomes flatter from 1985 to 2010, but only slightly. It does not really directly explain why the population growth rate decreased, only that there might be a correlation between slower growth rate of life expectancy and growth rate of the population (that if life expectancy growth slows, population growth rate decreases). The massive dip in life expectancy in 1991 is most likely due to the 1991 cyclone, which according to Wikipedia killed hundreds of thousands in Bangladesh and left 10 million homeless. The lower life expectancy at birth during this time was most likely due to the conditions of homelessness and lack of basic needs during the cyclone and its aftermath, as babies borth during this time were less likely to be healthy or well taken care of. However, this cyclone does not explain the change in population growth rate; the growth rate began decreasing in 1985, 6 years prior to the cyclone. Even 10 years after the cyclone, Bangladesh's growth rate was still declining at 1.77%. Thus, some other factor, not life expectancy, explains why the population growth rate decreased from 1985-2010.*"
   ]
  },
  {
   "cell_type": "markdown",
   "metadata": {
    "deletable": false,
    "editable": false
   },
   "source": [
    "The `fertility` table contains a statistic that is often used to measure how many babies are being born, the *total fertility rate*. This number describes the [number of children a woman would have in her lifetime](https://www.measureevaluation.org/prh/rh_indicators/specific/fertility/total-fertility-rate), on average, if the current rates of birth by age of the mother persisted throughout her child bearing years, assuming she survived through age 49. "
   ]
  },
  {
   "cell_type": "markdown",
   "metadata": {
    "deletable": false,
    "editable": false
   },
   "source": [
    "**Question 5.** Write a function `fertility_over_time` that takes the Alpha-3 code of a `country` and a `start` year. It returns a two-column table with labels \"`Year`\" and \"`Children per woman`\" that can be used to generate a line chart of the country's fertility rate each year, starting at the `start` year. The plot should include the `start` year and all later years that appear in the `fertility` table. \n",
    "\n",
    "Then, in the next cell, call your `fertility_over_time` function on the Alpha-3 code for Bangladesh and the year 1970 in order to plot how Bangladesh's fertility rate has changed since 1970. Note that the function `fertility_over_time` should not return the plot itself **The expression that draws the line plot is provided for you; please don't change it.**"
   ]
  },
  {
   "cell_type": "code",
   "execution_count": 10,
   "metadata": {
    "deletable": false
   },
   "outputs": [
    {
     "data": {
      "text/html": [
       "<table border=\"1\" class=\"dataframe\">\n",
       "    <thead>\n",
       "        <tr>\n",
       "            <th>Year</th> <th>Children per woman</th>\n",
       "        </tr>\n",
       "    </thead>\n",
       "    <tbody>\n",
       "        <tr>\n",
       "            <td>1970</td> <td>6.95              </td>\n",
       "        </tr>\n",
       "    </tbody>\n",
       "        <tr>\n",
       "            <td>1971</td> <td>6.94              </td>\n",
       "        </tr>\n",
       "    </tbody>\n",
       "        <tr>\n",
       "            <td>1972</td> <td>6.93              </td>\n",
       "        </tr>\n",
       "    </tbody>\n",
       "        <tr>\n",
       "            <td>1973</td> <td>6.9               </td>\n",
       "        </tr>\n",
       "    </tbody>\n",
       "        <tr>\n",
       "            <td>1974</td> <td>6.87              </td>\n",
       "        </tr>\n",
       "    </tbody>\n",
       "        <tr>\n",
       "            <td>1975</td> <td>6.82              </td>\n",
       "        </tr>\n",
       "    </tbody>\n",
       "        <tr>\n",
       "            <td>1976</td> <td>6.76              </td>\n",
       "        </tr>\n",
       "    </tbody>\n",
       "        <tr>\n",
       "            <td>1977</td> <td>6.68              </td>\n",
       "        </tr>\n",
       "    </tbody>\n",
       "        <tr>\n",
       "            <td>1978</td> <td>6.59              </td>\n",
       "        </tr>\n",
       "    </tbody>\n",
       "        <tr>\n",
       "            <td>1979</td> <td>6.48              </td>\n",
       "        </tr>\n",
       "    </tbody>\n",
       "</table>\n",
       "<p>... (36 rows omitted)</p"
      ],
      "text/plain": [
       "Year | Children per woman\n",
       "1970 | 6.95\n",
       "1971 | 6.94\n",
       "1972 | 6.93\n",
       "1973 | 6.9\n",
       "1974 | 6.87\n",
       "1975 | 6.82\n",
       "1976 | 6.76\n",
       "1977 | 6.68\n",
       "1978 | 6.59\n",
       "1979 | 6.48\n",
       "... (36 rows omitted)"
      ]
     },
     "execution_count": 10,
     "metadata": {},
     "output_type": "execute_result"
    }
   ],
   "source": [
    "def fertility_over_time(country, start):\n",
    "    \"\"\"Create a two-column table that describes a country's total fertility rate each year.\"\"\"\n",
    "    country_fertility = fertility.where('geo', are.equal_to(country)).where('time', are.above_or_equal_to(start))\n",
    "    return country_fertility.drop('geo').relabel('time', 'Year').relabel('children_per_woman_total_fertility', 'Children per woman')\n",
    "fertility_over_time('bgd', 1970)"
   ]
  },
  {
   "cell_type": "code",
   "execution_count": 11,
   "metadata": {
    "deletable": false
   },
   "outputs": [
    {
     "data": {
      "image/png": "[encoded data removed]",
      "text/plain": [
       "<matplotlib.figure.Figure at 0x7f8b3f02ab38>"
      ]
     },
     "metadata": {},
     "output_type": "display_data"
    }
   ],
   "source": [
    "bangladesh_code = 'bgd'\n",
    "fertility_over_time(bangladesh_code, 1970).plot('Year') # You should *not* change this line."
   ]
  },
  {
   "cell_type": "code",
   "execution_count": 12,
   "metadata": {
    "deletable": false,
    "editable": false
   },
   "outputs": [
    {
     "name": "stdout",
     "output_type": "stream",
     "text": [
      "~~~~~~~~~~~~~~~~~~~~~~~~~~~~~~~~~~~~~~~~~~~~~~~~~~~~~~~~~~~~~~~~~~~~~\n",
      "Running tests\n",
      "\n",
      "---------------------------------------------------------------------\n",
      "Test summary\n",
      "    Passed: 2\n",
      "    Failed: 0\n",
      "[ooooooooook] 100.0% passed\n",
      "\n"
     ]
    }
   ],
   "source": [
    "_ = ok.grade('q1_5')"
   ]
  },
  {
   "cell_type": "markdown",
   "metadata": {
    "deletable": false,
    "editable": false
   },
   "source": [
    "**Question 6.** Does the graph above help directly explain why the population growth rate decreased from 1985 to 2010 in Bangladesh? Why or why not?"
   ]
  },
  {
   "cell_type": "markdown",
   "metadata": {
    "deletable": false,
    "manual_grade": true,
    "manual_problem_id": "global_pop_6"
   },
   "source": [
    "*The graph does help somewhat explain why the population growth rate decreased from 1985 to 2010, because during that time period, the fertility rate in Bangladesh was decreasing at a steady pace (and only approximately from 1995-2010 beginning to decrease at a slower rate than before, hence the slight concave curving of the graph). If a country's women are bearing less and less children per capita, the country's population growth will begin to slow as the rate at which people are being added to the population will decrease. However, this decrease in fertility rate seems to have begin around 5 years earlier than the specified time period of population growth rate decreasing, so the graphy does not fully directly explain the stated correlation; there may be other factors such as environmental and living condition improvements/deterioration, or even cultural changes in optimal sizes of families, that influenced the population growth rate decrease.*"
   ]
  },
  {
   "cell_type": "markdown",
   "metadata": {
    "deletable": false,
    "editable": false
   },
   "source": [
    "It has been observed that lower fertility rates are often associated with lower child mortality rates. The link has been attributed to family planning: if parents can expect that their children will all survive into adulthood, then they will choose to have fewer children. We can see if this association is evident in Bangladesh by plotting the relationship between total fertility rate and [child mortality rate per 1000 children](https://en.wikipedia.org/wiki/Child_mortality)."
   ]
  },
  {
   "cell_type": "markdown",
   "metadata": {
    "deletable": false,
    "editable": false
   },
   "source": [
    "**Question 7.** Using both the `fertility` and `child_mortality` tables, draw a scatter diagram with one point for each year, starting with 1970, that has Bangladesh's total fertility on the horizontal axis and its child mortality on the vertical axis. \n",
    "\n",
    "**The expression that draws the scatter diagram is provided for you; please don't change it.** Instead, create a table called `fertility_and_child_mortality` with the appropriate column labels and data in order to generate the chart correctly. Use the label \"`Children per woman`\" to describe total fertility and the label \"`Child deaths per 1000 born`\" to describe child mortality."
   ]
  },
  {
   "cell_type": "code",
   "execution_count": 13,
   "metadata": {
    "deletable": false
   },
   "outputs": [
    {
     "data": {
      "image/png": "[encoded data removed]",
      "text/plain": [
       "<matplotlib.figure.Figure at 0x7f8b3ef33898>"
      ]
     },
     "metadata": {},
     "output_type": "display_data"
    }
   ],
   "source": [
    "f = fertility_over_time(bangladesh_code, 1970)\n",
    "def child_mortality_over_time(country, start):\n",
    "    \"\"\"Create a two-column table that describes a country's total child mortality rate each year.\"\"\"\n",
    "    country_mortality = child_mortality.where('geo', are.equal_to(country)).where('time', are.above_or_equal_to(start))\n",
    "    return country_mortality.drop('geo').relabel('time', 'Year').relabel('child_mortality_under_5_per_1000_born', 'Child deaths per 1000 born')\n",
    "m = child_mortality_over_time('bgd', 1970)\n",
    "fertility_and_child_mortality = m.join('Year', f).drop('Year')\n",
    "fertility_and_child_mortality.scatter('Children per woman', 'Child deaths per 1000 born') # You should *not* change this line.\n"
   ]
  },
  {
   "cell_type": "code",
   "execution_count": 14,
   "metadata": {
    "deletable": false,
    "editable": false
   },
   "outputs": [
    {
     "name": "stdout",
     "output_type": "stream",
     "text": [
      "~~~~~~~~~~~~~~~~~~~~~~~~~~~~~~~~~~~~~~~~~~~~~~~~~~~~~~~~~~~~~~~~~~~~~\n",
      "Running tests\n",
      "\n",
      "---------------------------------------------------------------------\n",
      "Test summary\n",
      "    Passed: 2\n",
      "    Failed: 0\n",
      "[ooooooooook] 100.0% passed\n",
      "\n"
     ]
    }
   ],
   "source": [
    "_ = ok.grade('q1_7')"
   ]
  },
  {
   "cell_type": "markdown",
   "metadata": {
    "deletable": false,
    "editable": false
   },
   "source": [
    "**Question 8.** In one or two sentences, describe the association (if any) that is illustrated by this scatter diagram. Does the diagram show that reduced child mortality causes parents to choose to have fewer children?"
   ]
  },
  {
   "cell_type": "markdown",
   "metadata": {
    "deletable": false
   },
   "source": [
    "*There is a clear positive association between the fertility rate and the mortality rate; that is, the higher the fertility rate, the higher the mortality rate. The diagram does not show that reduced child mortality causes parents to have fewer children; even though there is such an association, we do not know the actual causation behind the positive association and cannot just conclude that one of these two factors causes the other without proper consideration of all other variables.*"
   ]
  },
  {
   "cell_type": "markdown",
   "metadata": {
    "deletable": false,
    "editable": false
   },
   "source": [
    "### Congratulations: Checkpoint Reached\n",
    "\n",
    "You have reached the project checkpoint. Please submit now in order to record your progress. If you go back and revise your answers in the section above after the checkpoint is due, that's ok. Your revised answers will be graded. However, you will only get credit for your checkpoint submission if you have passed the tests provided for every question above.\n",
    "\n",
    "If you are working with a partner, only one of you needs to submit. For both of you to receive credit, the person who submits must invite the other to be their partner on [okpy.org](http://okpy.org). Please invite your partner now and tell them to accept the invitation **before** the checkpoint deadline!"
   ]
  },
  {
   "cell_type": "code",
   "execution_count": 15,
   "metadata": {
    "deletable": false,
    "editable": false
   },
   "outputs": [
    {
     "data": {
      "application/javascript": [
       "IPython.notebook.save_checkpoint();"
      ],
      "text/plain": [
       "<IPython.core.display.Javascript object>"
      ]
     },
     "metadata": {},
     "output_type": "display_data"
    },
    {
     "data": {
      "application/javascript": [
       "IPython.notebook.save_notebook();"
      ],
      "text/plain": [
       "<IPython.core.display.Javascript object>"
      ]
     },
     "metadata": {},
     "output_type": "display_data"
    },
    {
     "name": "stdout",
     "output_type": "stream",
     "text": [
      "Saving notebook... Saved 'project1.ipynb'.\n",
      "Submit... 100% complete\n",
      "Submission successful for user: sofiaguo@berkeley.edu\n",
      "URL: https://okpy.org/cal/data8/fa17/project1/submissions/wp442r\n",
      "\n"
     ]
    }
   ],
   "source": [
    "_ = ok.submit()"
   ]
  },
  {
   "cell_type": "markdown",
   "metadata": {
    "deletable": false,
    "editable": false
   },
   "source": [
    "### The World\n",
    "\n",
    "The change observed in Bangladesh since 1970 can also be observed in many other developing countries: health services improve, life expectancy increases, and child mortality decreases. At the same time, the fertility rate often plummets, and so the population growth rate decreases despite increasing longevity."
   ]
  },
  {
   "cell_type": "markdown",
   "metadata": {
    "deletable": false,
    "editable": false
   },
   "source": [
    "Run the cell below to generate two overlaid histograms, one for 1960 and one for 2010, that show the distributions of total fertility rates for these two years among all 201 countries in the `fertility` table."
   ]
  },
  {
   "cell_type": "code",
   "execution_count": 16,
   "metadata": {
    "deletable": false,
    "editable": false
   },
   "outputs": [
    {
     "data": {
      "image/png": "[encoded data removed]",
      "text/plain": [
       "<matplotlib.figure.Figure at 0x7f8b3ef205c0>"
      ]
     },
     "metadata": {},
     "output_type": "display_data"
    }
   ],
   "source": [
    "Table().with_columns(\n",
    "    '1960', fertility.where('time', 1960).column(2),\n",
    "    '2010', fertility.where('time', 2010).column(2)\n",
    ").hist(bins=np.arange(0, 10, 0.5), unit='child')\n",
    "_ = plots.xlabel('Children per woman')\n",
    "_ = plots.xticks(np.arange(10))"
   ]
  },
  {
   "cell_type": "markdown",
   "metadata": {
    "deletable": false,
    "editable": false
   },
   "source": [
    "**Question 9.** Assign `fertility_statements` to a list of the numbers for each statement below that can be correctly inferred from these histograms.\n",
    "1. About the same number of countries had a fertility rate between 3.5 and 4.5 in both 1960 and 2010.\n",
    "1. In 2010, about 40% of countries had a fertility rate between 1.5 and 2 (inclusive).\n",
    "1. In 1960, less than 20% of countries had a fertility rate below 3.\n",
    "1. More countries had a fertility rate above 3 in 1960 than in 2010.\n",
    "1. At least half of countries had a fertility rate between 5 and 8 (inclusive) in 1960.\n",
    "1. At least half of countries had a fertility rate below 3 in 2010."
   ]
  },
  {
   "cell_type": "code",
   "execution_count": 17,
   "metadata": {
    "collapsed": true,
    "deletable": false
   },
   "outputs": [],
   "source": [
    "fertility_statements = make_array(1, 3, 4, 5, 6)"
   ]
  },
  {
   "cell_type": "code",
   "execution_count": 18,
   "metadata": {
    "deletable": false,
    "editable": false
   },
   "outputs": [
    {
     "name": "stdout",
     "output_type": "stream",
     "text": [
      "~~~~~~~~~~~~~~~~~~~~~~~~~~~~~~~~~~~~~~~~~~~~~~~~~~~~~~~~~~~~~~~~~~~~~\n",
      "Running tests\n",
      "\n",
      "---------------------------------------------------------------------\n",
      "Test summary\n",
      "    Passed: 1\n",
      "    Failed: 0\n",
      "[ooooooooook] 100.0% passed\n",
      "\n"
     ]
    }
   ],
   "source": [
    "_ = ok.grade('q1_9')"
   ]
  },
  {
   "cell_type": "markdown",
   "metadata": {
    "deletable": false,
    "editable": false
   },
   "source": [
    "**Question 10.** Draw a line plot of the world population from 1800 through 2005. The world population is the sum of all the country's populations. "
   ]
  },
  {
   "cell_type": "code",
   "execution_count": 19,
   "metadata": {
    "deletable": false,
    "manual_grade": true,
    "manual_problem_id": "global_pop_10"
   },
   "outputs": [
    {
     "data": {
      "image/png": "[encoded data removed]",
      "text/plain": [
       "<matplotlib.figure.Figure at 0x7f8b3c0b77f0>"
      ]
     },
     "metadata": {},
     "output_type": "display_data"
    }
   ],
   "source": [
    "population.drop('geo').sort('time', descending=True).group('time', sum).plot('time')\n"
   ]
  },
  {
   "cell_type": "markdown",
   "metadata": {
    "deletable": false,
    "editable": false
   },
   "source": [
    "**Question 11.** Create a function `stats_for_year` that takes a `year` and returns a table of statistics. The table it returns should have four columns: `geo`, `population_total`, `children_per_woman_total_fertility`, and `child_mortality_under_5_per_1000_born`. Each row should contain one Alpha-3 country code and three statistics: population, fertility rate, and child mortality for that `year` from the `population`, `fertility` and `child_mortality` tables. Only include rows for which all three statistics are available for the country and year.\n",
    "\n",
    "In addition, restrict the result to country codes that appears in `big_50`, an array of the 50 most populous countries in 2010. This restriction will speed up computations later in the project.\n",
    "\n",
    "*Hint*: The tests for this question are quite comprehensive, so if you pass the tests, your function is probably correct. However, without calling your function yourself and looking at the output, it will be very difficult to understand any problems you have, so try your best to write the function correctly and check that it works before you rely on the `ok` tests to confirm your work."
   ]
  },
  {
   "cell_type": "code",
   "execution_count": 20,
   "metadata": {
    "collapsed": true,
    "deletable": false
   },
   "outputs": [],
   "source": [
    "# We first create a population table that only includes the \n",
    "# 50 countries with the largest 2010 populations. We focus on \n",
    "# these 50 countries only so that plotting later will run faster.\n",
    "big_50 = population.where('time', 2010).sort(2, descending=True).take(np.arange(50)).column('geo')\n",
    "population_of_big_50 = population.where('time', are.above(1959)).where('geo', are.contained_in(big_50))\n",
    "\n",
    "def stats_for_year(year):\n",
    "    \"\"\"Return a table of the stats for each country that year.\"\"\"\n",
    "    p = population_of_big_50.where('time', year).drop('time')\n",
    "    f = fertility.where('time', year).drop('time')\n",
    "    c = child_mortality.where('time', year).drop('time')\n",
    "    return p.join('geo', f).join('geo', c)\n",
    "\n"
   ]
  },
  {
   "cell_type": "markdown",
   "metadata": {},
   "source": [
    "Try calling your function `stats_for_year` on any year between 1960 and 2010 in the cell below.  Try to understand the output of `stats_for_year`."
   ]
  },
  {
   "cell_type": "code",
   "execution_count": 21,
   "metadata": {},
   "outputs": [
    {
     "data": {
      "text/html": [
       "<table border=\"1\" class=\"dataframe\">\n",
       "    <thead>\n",
       "        <tr>\n",
       "            <th>geo</th> <th>population_total</th> <th>children_per_woman_total_fertility</th> <th>child_mortality_under_5_per_1000_born</th>\n",
       "        </tr>\n",
       "    </thead>\n",
       "    <tbody>\n",
       "        <tr>\n",
       "            <td>afg </td> <td>27207291        </td> <td>5.93                              </td> <td>107.6                                </td>\n",
       "        </tr>\n",
       "    </tbody>\n",
       "        <tr>\n",
       "            <td>arg </td> <td>40798641        </td> <td>2.23                              </td> <td>15                                   </td>\n",
       "        </tr>\n",
       "    </tbody>\n",
       "        <tr>\n",
       "            <td>bgd </td> <td>149905836       </td> <td>2.32                              </td> <td>52.6                                 </td>\n",
       "        </tr>\n",
       "    </tbody>\n",
       "        <tr>\n",
       "            <td>bra </td> <td>196701298       </td> <td>1.86                              </td> <td>17.6                                 </td>\n",
       "        </tr>\n",
       "    </tbody>\n",
       "        <tr>\n",
       "            <td>can </td> <td>33746559        </td> <td>1.67                              </td> <td>5.7                                  </td>\n",
       "        </tr>\n",
       "    </tbody>\n",
       "        <tr>\n",
       "            <td>chn </td> <td>1333807063      </td> <td>1.54                              </td> <td>17                                   </td>\n",
       "        </tr>\n",
       "    </tbody>\n",
       "        <tr>\n",
       "            <td>cod </td> <td>63845097        </td> <td>6.35                              </td> <td>120.1                                </td>\n",
       "        </tr>\n",
       "    </tbody>\n",
       "        <tr>\n",
       "            <td>col </td> <td>45416276        </td> <td>2.41                              </td> <td>19.1                                 </td>\n",
       "        </tr>\n",
       "    </tbody>\n",
       "        <tr>\n",
       "            <td>deu </td> <td>80519685        </td> <td>1.38                              </td> <td>4.3                                  </td>\n",
       "        </tr>\n",
       "    </tbody>\n",
       "        <tr>\n",
       "            <td>dza </td> <td>35401790        </td> <td>2.78                              </td> <td>28.4                                 </td>\n",
       "        </tr>\n",
       "    </tbody>\n",
       "</table>\n",
       "<p>... (40 rows omitted)</p"
      ],
      "text/plain": [
       "geo  | population_total | children_per_woman_total_fertility | child_mortality_under_5_per_1000_born\n",
       "afg  | 27207291         | 5.93                               | 107.6\n",
       "arg  | 40798641         | 2.23                               | 15\n",
       "bgd  | 149905836        | 2.32                               | 52.6\n",
       "bra  | 196701298        | 1.86                               | 17.6\n",
       "can  | 33746559         | 1.67                               | 5.7\n",
       "chn  | 1333807063       | 1.54                               | 17\n",
       "cod  | 63845097         | 6.35                               | 120.1\n",
       "col  | 45416276         | 2.41                               | 19.1\n",
       "deu  | 80519685         | 1.38                               | 4.3\n",
       "dza  | 35401790         | 2.78                               | 28.4\n",
       "... (40 rows omitted)"
      ]
     },
     "execution_count": 21,
     "metadata": {},
     "output_type": "execute_result"
    }
   ],
   "source": [
    "stats_for_year(2009)"
   ]
  },
  {
   "cell_type": "code",
   "execution_count": 22,
   "metadata": {
    "deletable": false,
    "editable": false
   },
   "outputs": [
    {
     "name": "stdout",
     "output_type": "stream",
     "text": [
      "~~~~~~~~~~~~~~~~~~~~~~~~~~~~~~~~~~~~~~~~~~~~~~~~~~~~~~~~~~~~~~~~~~~~~\n",
      "Running tests\n",
      "\n",
      "---------------------------------------------------------------------\n",
      "Test summary\n",
      "    Passed: 4\n",
      "    Failed: 0\n",
      "[ooooooooook] 100.0% passed\n",
      "\n"
     ]
    }
   ],
   "source": [
    "_ = ok.grade('q1_11')"
   ]
  },
  {
   "cell_type": "markdown",
   "metadata": {},
   "source": [
    "**Question 12.** Create a table called `pop_by_decade` with two columns called `decade` and `population`. It has a row for each `year` since 1960 that starts a decade. The `population` column contains the total population of all countries included in the result of `stats_for_year(year)` for the first `year` of the decade. For example, 1960 is the first year of the 1960's decade. You should see that these countries contain most of the world's population.\n",
    "\n",
    "*Hint:* One approach is to define a function `pop_for_year` that computes this total population, then `apply` it to the `decade` column.  The `stats_for_year` function from the previous quesiton may be useful here."
   ]
  },
  {
   "cell_type": "code",
   "execution_count": 23,
   "metadata": {},
   "outputs": [
    {
     "data": {
      "text/html": [
       "<table border=\"1\" class=\"dataframe\">\n",
       "    <thead>\n",
       "        <tr>\n",
       "            <th>decade</th> <th>population</th>\n",
       "        </tr>\n",
       "    </thead>\n",
       "    <tbody>\n",
       "        <tr>\n",
       "            <td>1960  </td> <td>3420037702</td>\n",
       "        </tr>\n",
       "    </tbody>\n",
       "        <tr>\n",
       "            <td>1970  </td> <td>4138043502</td>\n",
       "        </tr>\n",
       "    </tbody>\n",
       "        <tr>\n",
       "            <td>1980  </td> <td>4942791414</td>\n",
       "        </tr>\n",
       "    </tbody>\n",
       "        <tr>\n",
       "            <td>1990  </td> <td>5862184547</td>\n",
       "        </tr>\n",
       "    </tbody>\n",
       "        <tr>\n",
       "            <td>2000  </td> <td>6712759341</td>\n",
       "        </tr>\n",
       "    </tbody>\n",
       "        <tr>\n",
       "            <td>2010  </td> <td>6929757296</td>\n",
       "        </tr>\n",
       "    </tbody>\n",
       "        <tr>\n",
       "            <td>2020  </td> <td>7758242632</td>\n",
       "        </tr>\n",
       "    </tbody>\n",
       "        <tr>\n",
       "            <td>2030  </td> <td>8500850456</td>\n",
       "        </tr>\n",
       "    </tbody>\n",
       "        <tr>\n",
       "            <td>2040  </td> <td>9157023496</td>\n",
       "        </tr>\n",
       "    </tbody>\n",
       "        <tr>\n",
       "            <td>2050  </td> <td>9724751570</td>\n",
       "        </tr>\n",
       "    </tbody>\n",
       "</table>\n",
       "<p>... (5 rows omitted)</p"
      ],
      "text/plain": [
       "decade | population\n",
       "1960   | 3420037702\n",
       "1970   | 4138043502\n",
       "1980   | 4942791414\n",
       "1990   | 5862184547\n",
       "2000   | 6712759341\n",
       "2010   | 6929757296\n",
       "2020   | 7758242632\n",
       "2030   | 8500850456\n",
       "2040   | 9157023496\n",
       "2050   | 9724751570\n",
       "... (5 rows omitted)"
      ]
     },
     "execution_count": 23,
     "metadata": {},
     "output_type": "execute_result"
    }
   ],
   "source": [
    "def pop_for_year(year):\n",
    "    return sum(stats_for_year(year).column(1))\n",
    "    \n",
    "import numpy as np\n",
    "tens = np.arange(1960, 2101, 10)\n",
    "pop = population.where('time', are.above_or_equal_to(1960)).where('time', are.contained_in(tens)).relabel('time', 'decade').sort('decade').group('decade', sum).drop('geo sum').relabel(1, 'population')\n",
    "pop"
   ]
  },
  {
   "cell_type": "code",
   "execution_count": 24,
   "metadata": {
    "collapsed": true
   },
   "outputs": [],
   "source": [
    "#This test is just a sanity check for your helper function if you choose to use it. You will not lose points for not implementing the function pop_for_year"
   ]
  },
  {
   "cell_type": "code",
   "execution_count": 25,
   "metadata": {},
   "outputs": [
    {
     "name": "stdout",
     "output_type": "stream",
     "text": [
      "~~~~~~~~~~~~~~~~~~~~~~~~~~~~~~~~~~~~~~~~~~~~~~~~~~~~~~~~~~~~~~~~~~~~~\n",
      "Running tests\n",
      "\n",
      "---------------------------------------------------------------------\n",
      "Test summary\n",
      "    Passed: 1\n",
      "    Failed: 0\n",
      "[ooooooooook] 100.0% passed\n",
      "\n"
     ]
    }
   ],
   "source": [
    "_ = ok.grade('q1_12_0')"
   ]
  },
  {
   "cell_type": "code",
   "execution_count": 26,
   "metadata": {
    "deletable": false
   },
   "outputs": [
    {
     "data": {
      "text/html": [
       "<table border=\"1\" class=\"dataframe\">\n",
       "    <thead>\n",
       "        <tr>\n",
       "            <th>decade</th> <th>population</th>\n",
       "        </tr>\n",
       "    </thead>\n",
       "    <tbody>\n",
       "        <tr>\n",
       "            <td>1960  </td> <td>3,420,037,702</td>\n",
       "        </tr>\n",
       "    </tbody>\n",
       "        <tr>\n",
       "            <td>1970  </td> <td>4,138,043,502</td>\n",
       "        </tr>\n",
       "    </tbody>\n",
       "        <tr>\n",
       "            <td>1980  </td> <td>4,942,791,414</td>\n",
       "        </tr>\n",
       "    </tbody>\n",
       "        <tr>\n",
       "            <td>1990  </td> <td>5,862,184,547</td>\n",
       "        </tr>\n",
       "    </tbody>\n",
       "        <tr>\n",
       "            <td>2000  </td> <td>6,712,759,341</td>\n",
       "        </tr>\n",
       "    </tbody>\n",
       "        <tr>\n",
       "            <td>2010  </td> <td>6,929,757,296</td>\n",
       "        </tr>\n",
       "    </tbody>\n",
       "</table>"
      ],
      "text/plain": [
       "decade | population\n",
       "1960   | 3,420,037,702\n",
       "1970   | 4,138,043,502\n",
       "1980   | 4,942,791,414\n",
       "1990   | 5,862,184,547\n",
       "2000   | 6,712,759,341\n",
       "2010   | 6,929,757,296"
      ]
     },
     "execution_count": 26,
     "metadata": {},
     "output_type": "execute_result"
    }
   ],
   "source": [
    "decades = Table().with_column('decade', np.arange(1960, 2011, 10))\n",
    "\n",
    "pop_by_decade = decades.join('decade', pop)\n",
    "pop_by_decade.set_format(1, NumberFormatter)\n",
    "\n"
   ]
  },
  {
   "cell_type": "code",
   "execution_count": 27,
   "metadata": {
    "deletable": false,
    "editable": false
   },
   "outputs": [
    {
     "name": "stdout",
     "output_type": "stream",
     "text": [
      "~~~~~~~~~~~~~~~~~~~~~~~~~~~~~~~~~~~~~~~~~~~~~~~~~~~~~~~~~~~~~~~~~~~~~\n",
      "Running tests\n",
      "\n",
      "---------------------------------------------------------------------\n",
      "Test summary\n",
      "    Passed: 2\n",
      "    Failed: 0\n",
      "[ooooooooook] 100.0% passed\n",
      "\n"
     ]
    }
   ],
   "source": [
    "_ = ok.grade('q1_12')"
   ]
  },
  {
   "cell_type": "markdown",
   "metadata": {
    "deletable": false,
    "editable": false
   },
   "source": [
    "The `countries` table describes various characteristics of countries. The `country` column contains the same codes as the `geo` column in each of the other data tables (`population`, `fertility`, and `child_mortality`). The `world_6region` column classifies each country into a region of the world. Run the cell below to inspect the data."
   ]
  },
  {
   "cell_type": "code",
   "execution_count": 28,
   "metadata": {
    "deletable": false,
    "editable": false
   },
   "outputs": [
    {
     "data": {
      "text/html": [
       "<table border=\"1\" class=\"dataframe\">\n",
       "    <thead>\n",
       "        <tr>\n",
       "            <th>country</th> <th>name</th> <th>world_6region</th>\n",
       "        </tr>\n",
       "    </thead>\n",
       "    <tbody>\n",
       "        <tr>\n",
       "            <td>afg      </td> <td>Afghanistan          </td> <td>south_asia              </td>\n",
       "        </tr>\n",
       "    </tbody>\n",
       "        <tr>\n",
       "            <td>akr_a_dhe</td> <td>Akrotiri and Dhekelia</td> <td>europe_central_asia     </td>\n",
       "        </tr>\n",
       "    </tbody>\n",
       "        <tr>\n",
       "            <td>alb      </td> <td>Albania              </td> <td>europe_central_asia     </td>\n",
       "        </tr>\n",
       "    </tbody>\n",
       "        <tr>\n",
       "            <td>dza      </td> <td>Algeria              </td> <td>middle_east_north_africa</td>\n",
       "        </tr>\n",
       "    </tbody>\n",
       "        <tr>\n",
       "            <td>asm      </td> <td>American Samoa       </td> <td>east_asia_pacific       </td>\n",
       "        </tr>\n",
       "    </tbody>\n",
       "        <tr>\n",
       "            <td>and      </td> <td>Andorra              </td> <td>europe_central_asia     </td>\n",
       "        </tr>\n",
       "    </tbody>\n",
       "        <tr>\n",
       "            <td>ago      </td> <td>Angola               </td> <td>sub_saharan_africa      </td>\n",
       "        </tr>\n",
       "    </tbody>\n",
       "        <tr>\n",
       "            <td>aia      </td> <td>Anguilla             </td> <td>america                 </td>\n",
       "        </tr>\n",
       "    </tbody>\n",
       "        <tr>\n",
       "            <td>atg      </td> <td>Antigua and Barbuda  </td> <td>america                 </td>\n",
       "        </tr>\n",
       "    </tbody>\n",
       "        <tr>\n",
       "            <td>arg      </td> <td>Argentina            </td> <td>america                 </td>\n",
       "        </tr>\n",
       "    </tbody>\n",
       "</table>\n",
       "<p>... (245 rows omitted)</p"
      ],
      "text/plain": [
       "country   | name                  | world_6region\n",
       "afg       | Afghanistan           | south_asia\n",
       "akr_a_dhe | Akrotiri and Dhekelia | europe_central_asia\n",
       "alb       | Albania               | europe_central_asia\n",
       "dza       | Algeria               | middle_east_north_africa\n",
       "asm       | American Samoa        | east_asia_pacific\n",
       "and       | Andorra               | europe_central_asia\n",
       "ago       | Angola                | sub_saharan_africa\n",
       "aia       | Anguilla              | america\n",
       "atg       | Antigua and Barbuda   | america\n",
       "arg       | Argentina             | america\n",
       "... (245 rows omitted)"
      ]
     },
     "execution_count": 28,
     "metadata": {},
     "output_type": "execute_result"
    }
   ],
   "source": [
    "countries = Table.read_table('countries.csv').where('country', are.contained_in(population.group('geo').column(0)))\n",
    "countries.select('country', 'name', 'world_6region')"
   ]
  },
  {
   "cell_type": "markdown",
   "metadata": {
    "deletable": false,
    "editable": false
   },
   "source": [
    "**Question 13.** Create a table called `region_counts` that has two columns, `region` and `count`. It should describe the count of how many countries in each region appear in the result of `stats_for_year(1960)`. For example, one row would have `south_asia` as its `world_6region` value and an integer as its `count` value: the number of large South Asian countries for which we have population, fertility, and child mortality numbers from 1960."
   ]
  },
  {
   "cell_type": "code",
   "execution_count": 29,
   "metadata": {
    "deletable": false
   },
   "outputs": [
    {
     "data": {
      "text/html": [
       "<table border=\"1\" class=\"dataframe\">\n",
       "    <thead>\n",
       "        <tr>\n",
       "            <th>region</th> <th>count</th>\n",
       "        </tr>\n",
       "    </thead>\n",
       "    <tbody>\n",
       "        <tr>\n",
       "            <td>america                 </td> <td>8    </td>\n",
       "        </tr>\n",
       "    </tbody>\n",
       "        <tr>\n",
       "            <td>east_asia_pacific       </td> <td>10   </td>\n",
       "        </tr>\n",
       "    </tbody>\n",
       "        <tr>\n",
       "            <td>europe_central_asia     </td> <td>10   </td>\n",
       "        </tr>\n",
       "    </tbody>\n",
       "        <tr>\n",
       "            <td>middle_east_north_africa</td> <td>7    </td>\n",
       "        </tr>\n",
       "    </tbody>\n",
       "        <tr>\n",
       "            <td>south_asia              </td> <td>5    </td>\n",
       "        </tr>\n",
       "    </tbody>\n",
       "        <tr>\n",
       "            <td>sub_saharan_africa      </td> <td>10   </td>\n",
       "        </tr>\n",
       "    </tbody>\n",
       "</table>"
      ],
      "text/plain": [
       "region                   | count\n",
       "america                  | 8\n",
       "east_asia_pacific        | 10\n",
       "europe_central_asia      | 10\n",
       "middle_east_north_africa | 7\n",
       "south_asia               | 5\n",
       "sub_saharan_africa       | 10"
      ]
     },
     "execution_count": 29,
     "metadata": {},
     "output_type": "execute_result"
    }
   ],
   "source": [
    "sixty = stats_for_year(1960)\n",
    "country = countries.select('country', 'name', 'world_6region')\n",
    "region_counts = sixty.join('geo', country, 'country').drop(1, 2, 3, 4).group('world_6region').relabel(0, 'region')\n",
    "region_counts\n"
   ]
  },
  {
   "cell_type": "code",
   "execution_count": 30,
   "metadata": {
    "deletable": false,
    "editable": false
   },
   "outputs": [
    {
     "name": "stdout",
     "output_type": "stream",
     "text": [
      "~~~~~~~~~~~~~~~~~~~~~~~~~~~~~~~~~~~~~~~~~~~~~~~~~~~~~~~~~~~~~~~~~~~~~\n",
      "Running tests\n",
      "\n",
      "---------------------------------------------------------------------\n",
      "Test summary\n",
      "    Passed: 2\n",
      "    Failed: 0\n",
      "[ooooooooook] 100.0% passed\n",
      "\n"
     ]
    }
   ],
   "source": [
    "_ = ok.grade('q1_13')"
   ]
  },
  {
   "cell_type": "markdown",
   "metadata": {
    "deletable": false,
    "editable": false
   },
   "source": [
    "The following scatter diagram compares total fertility rate and child mortality rate for each country in 1960. The area of each dot represents the population of the country, and the color represents its region of the world. Run the cell. Do you think you can identify any of the dots?"
   ]
  },
  {
   "cell_type": "code",
   "execution_count": 31,
   "metadata": {
    "deletable": false
   },
   "outputs": [
    {
     "data": {
      "image/png": "[encoded data removed]",
      "text/plain": [
       "<matplotlib.figure.Figure at 0x7f8b3c374390>"
      ]
     },
     "metadata": {},
     "output_type": "display_data"
    }
   ],
   "source": [
    "from functools import lru_cache as cache\n",
    "\n",
    "# This cache annotation makes sure that if the same year\n",
    "# is passed as an argument twice, the work of computing\n",
    "# the result is only carried out once.\n",
    "@cache(None)\n",
    "def stats_relabeled(year):\n",
    "    \"\"\"Relabeled and cached version of stats_for_year.\"\"\"\n",
    "    return stats_for_year(year).relabeled(2, 'Children per woman').relabeled(3, 'Child deaths per 1000 born')\n",
    "\n",
    "def fertilty_vs_child_mortality(year):\n",
    "    \"\"\"Draw a color scatter diagram comparing child mortality and fertility.\"\"\"\n",
    "    with_region = stats_relabeled(year).join('geo', countries.select('country', 'world_6region'), 'country')\n",
    "    with_region.scatter(2, 3, sizes=1, colors=4, s=500)\n",
    "    plots.xlim(0,10)\n",
    "    plots.ylim(-50, 500)\n",
    "    plots.title(year)\n",
    "\n",
    "fertilty_vs_child_mortality(1960)"
   ]
  },
  {
   "cell_type": "markdown",
   "metadata": {
    "deletable": false,
    "editable": false
   },
   "source": [
    "**Question 14.** Assign `scatter_statements` to a list of the numbers for each statement below that can be inferred from this scatter diagram for 1960. \n",
    "1. The `europe_central_asia` region had the lowest child mortality rate.\n",
    "1. The lowest child mortality rate of any country was from an `east_asian_pacific` country.\n",
    "1. Most countries had a fertility rate above 5.\n",
    "1. There was an association between child mortality and fertility.\n",
    "1. The two largest countries by population also had the two highest child mortality rate."
   ]
  },
  {
   "cell_type": "code",
   "execution_count": 32,
   "metadata": {
    "collapsed": true,
    "deletable": false
   },
   "outputs": [],
   "source": [
    "scatter_statements = (1, 3, 4)"
   ]
  },
  {
   "cell_type": "code",
   "execution_count": 33,
   "metadata": {
    "deletable": false,
    "editable": false
   },
   "outputs": [
    {
     "name": "stdout",
     "output_type": "stream",
     "text": [
      "~~~~~~~~~~~~~~~~~~~~~~~~~~~~~~~~~~~~~~~~~~~~~~~~~~~~~~~~~~~~~~~~~~~~~\n",
      "Running tests\n",
      "\n",
      "---------------------------------------------------------------------\n",
      "Test summary\n",
      "    Passed: 1\n",
      "    Failed: 0\n",
      "[ooooooooook] 100.0% passed\n",
      "\n"
     ]
    }
   ],
   "source": [
    "_ = ok.grade('q1_14')"
   ]
  },
  {
   "cell_type": "markdown",
   "metadata": {
    "deletable": false
   },
   "source": [
    "The result of the cell below is interactive. Drag the slider to the right to see how countries have changed over time. You'll find that the great divide between so-called \"Western\" and \"developing\" countries that existed in the 1960's has nearly disappeared. This shift in fertility rates is the reason that the global population is expected to grow more slowly in the 21st century than it did in the 19th and 20th centuries."
   ]
  },
  {
   "cell_type": "code",
   "execution_count": 34,
   "metadata": {
    "deletable": false,
    "scrolled": true
   },
   "outputs": [
    {
     "data": {
      "image/png": "[encoded data removed]",
      "text/plain": [
       "<matplotlib.figure.Figure at 0x7f8b3c35cbe0>"
      ]
     },
     "metadata": {},
     "output_type": "display_data"
    }
   ],
   "source": [
    "import ipywidgets as widgets\n",
    "\n",
    "# This part takes a few minutes to run because it \n",
    "# computes 55 tables in advance: one for each year.\n",
    "Table().with_column('Year', np.arange(1960, 2016)).apply(stats_relabeled, 'Year')\n",
    "\n",
    "_ = widgets.interact(fertilty_vs_child_mortality, \n",
    "                     year=widgets.IntSlider(min=1960, max=2015, value=1960))"
   ]
  },
  {
   "cell_type": "markdown",
   "metadata": {
    "deletable": false,
    "editable": false
   },
   "source": [
    "Now is a great time to take a break and watch the same data presented by [Hans Rosling in a 2010 TEDx talk](https://www.gapminder.org/videos/reducing-child-mortality-a-moral-and-environmental-imperative) with smoother animation and witty commentary."
   ]
  },
  {
   "cell_type": "markdown",
   "metadata": {
    "deletable": false,
    "editable": false
   },
   "source": [
    "## 2. Global Poverty\n"
   ]
  },
  {
   "cell_type": "markdown",
   "metadata": {
    "deletable": false,
    "editable": false
   },
   "source": [
    "In 1800, 85% of the world's 1 billion people lived in *extreme poverty*, defined by the United Nations as \"a condition characterized by severe deprivation of basic human needs, including food, safe drinking water, sanitation facilities, health, shelter, education and information.\" A common measure of extreme poverty is a person living on less than \\$1.25 per day.\n",
    "\n",
    "In 2015, the proportion of people living in extreme poverty was estimated to be 12%. Although the world rate of extreme poverty has declined consistently for hundreds of years, the number of people living in extreme poverty is still close to 1 billion. The United Nations recently adopted an [ambitious goal](http://www.un.org/sustainabledevelopment/poverty/): \"By 2030, eradicate extreme poverty for all people everywhere.\"\n",
    "In this section, we will examine extreme poverty trends around the world."
   ]
  },
  {
   "cell_type": "markdown",
   "metadata": {
    "deletable": false,
    "editable": false
   },
   "source": [
    "First, load the population and poverty rate by country and year and the country descriptions. While the `population` table has values for every recent year for many countries, the `poverty` table only includes certain years for each country in which a measurement of the rate of extreme poverty was available."
   ]
  },
  {
   "cell_type": "code",
   "execution_count": 35,
   "metadata": {
    "deletable": false,
    "editable": false
   },
   "outputs": [
    {
     "data": {
      "text/html": [
       "<table border=\"1\" class=\"dataframe\">\n",
       "    <thead>\n",
       "        <tr>\n",
       "            <th>geo</th> <th>time</th> <th>extreme_poverty_percent_people_below_125_a_day</th>\n",
       "        </tr>\n",
       "    </thead>\n",
       "    <tbody>\n",
       "        <tr>\n",
       "            <td>alb </td> <td>1996</td> <td>0.2                                           </td>\n",
       "        </tr>\n",
       "    </tbody>\n",
       "        <tr>\n",
       "            <td>alb </td> <td>2002</td> <td>0.73                                          </td>\n",
       "        </tr>\n",
       "    </tbody>\n",
       "        <tr>\n",
       "            <td>alb </td> <td>2004</td> <td>0.53                                          </td>\n",
       "        </tr>\n",
       "    </tbody>\n",
       "</table>\n",
       "<p>... (1096 rows omitted)</p"
      ],
      "text/plain": [
       "<IPython.core.display.HTML object>"
      ]
     },
     "metadata": {},
     "output_type": "display_data"
    }
   ],
   "source": [
    "population = Table.read_table('population.csv')\n",
    "countries = Table.read_table('countries.csv').where('country', are.contained_in(population.group('geo').column(0)))\n",
    "poverty = Table.read_table('poverty.csv')\n",
    "poverty.show(3)"
   ]
  },
  {
   "cell_type": "markdown",
   "metadata": {
    "deletable": false,
    "editable": false
   },
   "source": [
    "**Question 1.** Assign `latest` to a three-column table with one row for each country that appears in the `poverty` table. The first column should contain the 3-letter code for the country. The second column should contain the *most recent year* for which an extreme poverty rate is available for the country. The third column should contain the poverty rate in that year. **Do not change the last line, so that the labels of your table are set correctly.**\n",
    "\n",
    "*Hint*: the `first` function may be helpful, but you are not required to use it."
   ]
  },
  {
   "cell_type": "code",
   "execution_count": 36,
   "metadata": {
    "deletable": false
   },
   "outputs": [
    {
     "data": {
      "text/html": [
       "<table border=\"1\" class=\"dataframe\">\n",
       "    <thead>\n",
       "        <tr>\n",
       "            <th>geo</th> <th>time</th> <th>poverty_percent</th>\n",
       "        </tr>\n",
       "    </thead>\n",
       "    <tbody>\n",
       "        <tr>\n",
       "            <td>ago </td> <td>2009</td> <td>43.37          </td>\n",
       "        </tr>\n",
       "    </tbody>\n",
       "        <tr>\n",
       "            <td>alb </td> <td>2012</td> <td>0.46           </td>\n",
       "        </tr>\n",
       "    </tbody>\n",
       "        <tr>\n",
       "            <td>arg </td> <td>2011</td> <td>1.41           </td>\n",
       "        </tr>\n",
       "    </tbody>\n",
       "        <tr>\n",
       "            <td>arm </td> <td>2012</td> <td>1.75           </td>\n",
       "        </tr>\n",
       "    </tbody>\n",
       "        <tr>\n",
       "            <td>aus </td> <td>2003</td> <td>1.36           </td>\n",
       "        </tr>\n",
       "    </tbody>\n",
       "        <tr>\n",
       "            <td>aut </td> <td>2004</td> <td>0.34           </td>\n",
       "        </tr>\n",
       "    </tbody>\n",
       "        <tr>\n",
       "            <td>aze </td> <td>2008</td> <td>0.31           </td>\n",
       "        </tr>\n",
       "    </tbody>\n",
       "        <tr>\n",
       "            <td>bdi </td> <td>2006</td> <td>81.32          </td>\n",
       "        </tr>\n",
       "    </tbody>\n",
       "        <tr>\n",
       "            <td>bel </td> <td>2000</td> <td>0.5            </td>\n",
       "        </tr>\n",
       "    </tbody>\n",
       "        <tr>\n",
       "            <td>ben </td> <td>2012</td> <td>51.61          </td>\n",
       "        </tr>\n",
       "    </tbody>\n",
       "</table>\n",
       "<p>... (135 rows omitted)</p"
      ],
      "text/plain": [
       "geo  | time | poverty_percent\n",
       "ago  | 2009 | 43.37\n",
       "alb  | 2012 | 0.46\n",
       "arg  | 2011 | 1.41\n",
       "arm  | 2012 | 1.75\n",
       "aus  | 2003 | 1.36\n",
       "aut  | 2004 | 0.34\n",
       "aze  | 2008 | 0.31\n",
       "bdi  | 2006 | 81.32\n",
       "bel  | 2000 | 0.5\n",
       "ben  | 2012 | 51.61\n",
       "... (135 rows omitted)"
      ]
     },
     "execution_count": 36,
     "metadata": {},
     "output_type": "execute_result"
    }
   ],
   "source": [
    "def first(values):\n",
    "    return values.item(0)\n",
    "\n",
    "latest = poverty.sort('time', descending=True).sort('geo').group('geo', first)\n",
    "\n",
    "latest.relabel(0, 'geo').relabel(1, 'time').relabel(2, 'poverty_percent') # You should *not* change this line.\n"
   ]
  },
  {
   "cell_type": "code",
   "execution_count": 37,
   "metadata": {
    "deletable": false
   },
   "outputs": [
    {
     "name": "stdout",
     "output_type": "stream",
     "text": [
      "~~~~~~~~~~~~~~~~~~~~~~~~~~~~~~~~~~~~~~~~~~~~~~~~~~~~~~~~~~~~~~~~~~~~~\n",
      "Running tests\n",
      "\n",
      "---------------------------------------------------------------------\n",
      "Test summary\n",
      "    Passed: 2\n",
      "    Failed: 0\n",
      "[ooooooooook] 100.0% passed\n",
      "\n"
     ]
    }
   ],
   "source": [
    "_ = ok.grade('q2_1')"
   ]
  },
  {
   "cell_type": "markdown",
   "metadata": {
    "deletable": false,
    "editable": false
   },
   "source": [
    "**Question 2.** Using both `latest` and `population`, create a four-column table called `recent` with one row for each country in `latest`. The four columns should have the following labels and contents:\n",
    "1. `geo` contains the 3-letter country code,\n",
    "1. `poverty_percent` contains the most recent poverty percent,\n",
    "1. `population_total` contains the population of the country in 2010,\n",
    "1. `poverty_total` contains the number of people in poverty **rounded to the nearest integer**, based on the 2010 population and most recent poverty rate."
   ]
  },
  {
   "cell_type": "code",
   "execution_count": 38,
   "metadata": {
    "deletable": false
   },
   "outputs": [
    {
     "data": {
      "text/html": [
       "<table border=\"1\" class=\"dataframe\">\n",
       "    <thead>\n",
       "        <tr>\n",
       "            <th>geo</th> <th>poverty_percent</th> <th>population_total</th> <th>poverty_total</th>\n",
       "        </tr>\n",
       "    </thead>\n",
       "    <tbody>\n",
       "        <tr>\n",
       "            <td>ago </td> <td>43.37          </td> <td>21219954        </td> <td>9.20309e+06  </td>\n",
       "        </tr>\n",
       "    </tbody>\n",
       "        <tr>\n",
       "            <td>alb </td> <td>0.46           </td> <td>2901883         </td> <td>13349        </td>\n",
       "        </tr>\n",
       "    </tbody>\n",
       "        <tr>\n",
       "            <td>arg </td> <td>1.41           </td> <td>41222875        </td> <td>581243       </td>\n",
       "        </tr>\n",
       "    </tbody>\n",
       "        <tr>\n",
       "            <td>arm </td> <td>1.75           </td> <td>2963496         </td> <td>51861        </td>\n",
       "        </tr>\n",
       "    </tbody>\n",
       "        <tr>\n",
       "            <td>aus </td> <td>1.36           </td> <td>22162863        </td> <td>301415       </td>\n",
       "        </tr>\n",
       "    </tbody>\n",
       "        <tr>\n",
       "            <td>aut </td> <td>0.34           </td> <td>8391986         </td> <td>28533        </td>\n",
       "        </tr>\n",
       "    </tbody>\n",
       "        <tr>\n",
       "            <td>aze </td> <td>0.31           </td> <td>9099893         </td> <td>28210        </td>\n",
       "        </tr>\n",
       "    </tbody>\n",
       "        <tr>\n",
       "            <td>bdi </td> <td>81.32          </td> <td>9461117         </td> <td>7.69378e+06  </td>\n",
       "        </tr>\n",
       "    </tbody>\n",
       "        <tr>\n",
       "            <td>bel </td> <td>0.5            </td> <td>10929978        </td> <td>54650        </td>\n",
       "        </tr>\n",
       "    </tbody>\n",
       "        <tr>\n",
       "            <td>ben </td> <td>51.61          </td> <td>9509798         </td> <td>4.90801e+06  </td>\n",
       "        </tr>\n",
       "    </tbody>\n",
       "</table>\n",
       "<p>... (135 rows omitted)</p"
      ],
      "text/plain": [
       "geo  | poverty_percent | population_total | poverty_total\n",
       "ago  | 43.37           | 21219954         | 9.20309e+06\n",
       "alb  | 0.46            | 2901883          | 13349\n",
       "arg  | 1.41            | 41222875         | 581243\n",
       "arm  | 1.75            | 2963496          | 51861\n",
       "aus  | 1.36            | 22162863         | 301415\n",
       "aut  | 0.34            | 8391986          | 28533\n",
       "aze  | 0.31            | 9099893          | 28210\n",
       "bdi  | 81.32           | 9461117          | 7.69378e+06\n",
       "bel  | 0.5             | 10929978         | 54650\n",
       "ben  | 51.61           | 9509798          | 4.90801e+06\n",
       "... (135 rows omitted)"
      ]
     },
     "execution_count": 38,
     "metadata": {},
     "output_type": "execute_result"
    }
   ],
   "source": [
    "import numpy as np\n",
    "pop_total = population.where('time', are.equal_to(2010)).sort('geo')\n",
    "pov_joined = latest.join('geo', pop_total)\n",
    "\n",
    "poverty_and_pop = pov_joined.drop(1, 3)\n",
    "recent = poverty_and_pop.with_column(\n",
    "        'poverty_total', np.round((poverty_and_pop.column(1)/100)*(poverty_and_pop.column(2)), 0)\n",
    "        )\n",
    "recent"
   ]
  },
  {
   "cell_type": "code",
   "execution_count": 39,
   "metadata": {
    "deletable": false,
    "editable": false
   },
   "outputs": [
    {
     "name": "stdout",
     "output_type": "stream",
     "text": [
      "~~~~~~~~~~~~~~~~~~~~~~~~~~~~~~~~~~~~~~~~~~~~~~~~~~~~~~~~~~~~~~~~~~~~~\n",
      "Running tests\n",
      "\n",
      "---------------------------------------------------------------------\n",
      "Test summary\n",
      "    Passed: 3\n",
      "    Failed: 0\n",
      "[ooooooooook] 100.0% passed\n",
      "\n"
     ]
    }
   ],
   "source": [
    "_ = ok.grade('q2_2')"
   ]
  },
  {
   "cell_type": "markdown",
   "metadata": {
    "deletable": false,
    "editable": false
   },
   "source": [
    "**Question 3.** Assuming that the `poverty_total` numbers in the `recent` table describe *all* people in 2010 living in extreme poverty, assign the name `poverty_percent` to the percentage of the world's 2010 population that were living in extreme poverty. You should find a number that is somewhat above the 2015 global estimate of 12%, since many country-specific poverty rates are older than 2015.\n",
    "\n",
    "*Hint*: The sum of the `population_total` column in the `recent` table is not the world population, because only a subset of the world's countries have known poverty rates. Use the `population` table to compute the world's 2010 total population."
   ]
  },
  {
   "cell_type": "code",
   "execution_count": 40,
   "metadata": {
    "deletable": false
   },
   "outputs": [
    {
     "data": {
      "text/plain": [
       "14.299370218520854"
      ]
     },
     "execution_count": 40,
     "metadata": {},
     "output_type": "execute_result"
    }
   ],
   "source": [
    "poverty_percent = (sum(recent.column(3))/sum(population.where('time', are.equal_to(2010)).column(2)))*100\n",
    "poverty_percent\n"
   ]
  },
  {
   "cell_type": "code",
   "execution_count": 41,
   "metadata": {
    "deletable": false,
    "editable": false
   },
   "outputs": [
    {
     "name": "stdout",
     "output_type": "stream",
     "text": [
      "~~~~~~~~~~~~~~~~~~~~~~~~~~~~~~~~~~~~~~~~~~~~~~~~~~~~~~~~~~~~~~~~~~~~~\n",
      "Running tests\n",
      "\n",
      "---------------------------------------------------------------------\n",
      "Test summary\n",
      "    Passed: 1\n",
      "    Failed: 0\n",
      "[ooooooooook] 100.0% passed\n",
      "\n"
     ]
    }
   ],
   "source": [
    "_ = ok.grade('q2_3')"
   ]
  },
  {
   "cell_type": "markdown",
   "metadata": {
    "deletable": false,
    "editable": false
   },
   "source": [
    "The `countries` table includes not only the name and region of countries, but also their positions on the globe."
   ]
  },
  {
   "cell_type": "code",
   "execution_count": 42,
   "metadata": {
    "deletable": false,
    "editable": false
   },
   "outputs": [
    {
     "data": {
      "text/html": [
       "<table border=\"1\" class=\"dataframe\">\n",
       "    <thead>\n",
       "        <tr>\n",
       "            <th>country</th> <th>name</th> <th>world_4region</th> <th>latitude</th> <th>longitude</th>\n",
       "        </tr>\n",
       "    </thead>\n",
       "    <tbody>\n",
       "        <tr>\n",
       "            <td>afg      </td> <td>Afghanistan          </td> <td>asia         </td> <td>33      </td> <td>66       </td>\n",
       "        </tr>\n",
       "    </tbody>\n",
       "        <tr>\n",
       "            <td>akr_a_dhe</td> <td>Akrotiri and Dhekelia</td> <td>europe       </td> <td>nan     </td> <td>nan      </td>\n",
       "        </tr>\n",
       "    </tbody>\n",
       "        <tr>\n",
       "            <td>alb      </td> <td>Albania              </td> <td>europe       </td> <td>41      </td> <td>20       </td>\n",
       "        </tr>\n",
       "    </tbody>\n",
       "        <tr>\n",
       "            <td>dza      </td> <td>Algeria              </td> <td>africa       </td> <td>28      </td> <td>3        </td>\n",
       "        </tr>\n",
       "    </tbody>\n",
       "        <tr>\n",
       "            <td>asm      </td> <td>American Samoa       </td> <td>asia         </td> <td>-11.056 </td> <td>-171.082 </td>\n",
       "        </tr>\n",
       "    </tbody>\n",
       "        <tr>\n",
       "            <td>and      </td> <td>Andorra              </td> <td>europe       </td> <td>42.5078 </td> <td>1.52109  </td>\n",
       "        </tr>\n",
       "    </tbody>\n",
       "        <tr>\n",
       "            <td>ago      </td> <td>Angola               </td> <td>africa       </td> <td>-12.5   </td> <td>18.5     </td>\n",
       "        </tr>\n",
       "    </tbody>\n",
       "        <tr>\n",
       "            <td>aia      </td> <td>Anguilla             </td> <td>americas     </td> <td>18.2167 </td> <td>-63.05   </td>\n",
       "        </tr>\n",
       "    </tbody>\n",
       "        <tr>\n",
       "            <td>atg      </td> <td>Antigua and Barbuda  </td> <td>americas     </td> <td>17.05   </td> <td>-61.8    </td>\n",
       "        </tr>\n",
       "    </tbody>\n",
       "        <tr>\n",
       "            <td>arg      </td> <td>Argentina            </td> <td>americas     </td> <td>-34     </td> <td>-64      </td>\n",
       "        </tr>\n",
       "    </tbody>\n",
       "</table>\n",
       "<p>... (245 rows omitted)</p"
      ],
      "text/plain": [
       "country   | name                  | world_4region | latitude | longitude\n",
       "afg       | Afghanistan           | asia          | 33       | 66\n",
       "akr_a_dhe | Akrotiri and Dhekelia | europe        | nan      | nan\n",
       "alb       | Albania               | europe        | 41       | 20\n",
       "dza       | Algeria               | africa        | 28       | 3\n",
       "asm       | American Samoa        | asia          | -11.056  | -171.082\n",
       "and       | Andorra               | europe        | 42.5078  | 1.52109\n",
       "ago       | Angola                | africa        | -12.5    | 18.5\n",
       "aia       | Anguilla              | americas      | 18.2167  | -63.05\n",
       "atg       | Antigua and Barbuda   | americas      | 17.05    | -61.8\n",
       "arg       | Argentina             | americas      | -34      | -64\n",
       "... (245 rows omitted)"
      ]
     },
     "execution_count": 42,
     "metadata": {},
     "output_type": "execute_result"
    }
   ],
   "source": [
    "countries.select('country', 'name', 'world_4region', 'latitude', 'longitude')"
   ]
  },
  {
   "cell_type": "markdown",
   "metadata": {
    "deletable": false,
    "editable": false
   },
   "source": [
    "**Question 4.** Using both `countries` and `recent`, create a five-column table called `poverty_map` with one row for every country in `recent`.  The four columns should have the following labels and contents:\n",
    "1. `latitude` contains the country's latitude,\n",
    "1. `longitude` contains the country's longitude,\n",
    "1. `name` contains the country's name,\n",
    "1. `region` contains the country's region from the `world_4region` column of `countries`,\n",
    "1. `poverty_total` contains the country's poverty total."
   ]
  },
  {
   "cell_type": "code",
   "execution_count": 43,
   "metadata": {
    "deletable": false
   },
   "outputs": [
    {
     "data": {
      "text/html": [
       "<table border=\"1\" class=\"dataframe\">\n",
       "    <thead>\n",
       "        <tr>\n",
       "            <th>latitude</th> <th>longitude</th> <th>name</th> <th>region</th> <th>poverty_total</th>\n",
       "        </tr>\n",
       "    </thead>\n",
       "    <tbody>\n",
       "        <tr>\n",
       "            <td>-12.5   </td> <td>18.5     </td> <td>Angola    </td> <td>africa  </td> <td>9.20309e+06  </td>\n",
       "        </tr>\n",
       "    </tbody>\n",
       "        <tr>\n",
       "            <td>41      </td> <td>20       </td> <td>Albania   </td> <td>europe  </td> <td>13349        </td>\n",
       "        </tr>\n",
       "    </tbody>\n",
       "        <tr>\n",
       "            <td>-34     </td> <td>-64      </td> <td>Argentina </td> <td>americas</td> <td>581243       </td>\n",
       "        </tr>\n",
       "    </tbody>\n",
       "        <tr>\n",
       "            <td>40.25   </td> <td>45       </td> <td>Armenia   </td> <td>europe  </td> <td>51861        </td>\n",
       "        </tr>\n",
       "    </tbody>\n",
       "        <tr>\n",
       "            <td>-25     </td> <td>135      </td> <td>Australia </td> <td>asia    </td> <td>301415       </td>\n",
       "        </tr>\n",
       "    </tbody>\n",
       "        <tr>\n",
       "            <td>47.3333 </td> <td>13.3333  </td> <td>Austria   </td> <td>europe  </td> <td>28533        </td>\n",
       "        </tr>\n",
       "    </tbody>\n",
       "        <tr>\n",
       "            <td>40.5    </td> <td>47.5     </td> <td>Azerbaijan</td> <td>europe  </td> <td>28210        </td>\n",
       "        </tr>\n",
       "    </tbody>\n",
       "        <tr>\n",
       "            <td>-3.5    </td> <td>30       </td> <td>Burundi   </td> <td>africa  </td> <td>7.69378e+06  </td>\n",
       "        </tr>\n",
       "    </tbody>\n",
       "        <tr>\n",
       "            <td>50.75   </td> <td>4.5      </td> <td>Belgium   </td> <td>europe  </td> <td>54650        </td>\n",
       "        </tr>\n",
       "    </tbody>\n",
       "        <tr>\n",
       "            <td>9.5     </td> <td>2.25     </td> <td>Benin     </td> <td>africa  </td> <td>4.90801e+06  </td>\n",
       "        </tr>\n",
       "    </tbody>\n",
       "</table>\n",
       "<p>... (135 rows omitted)</p"
      ],
      "text/plain": [
       "latitude | longitude | name       | region   | poverty_total\n",
       "-12.5    | 18.5      | Angola     | africa   | 9.20309e+06\n",
       "41       | 20        | Albania    | europe   | 13349\n",
       "-34      | -64       | Argentina  | americas | 581243\n",
       "40.25    | 45        | Armenia    | europe   | 51861\n",
       "-25      | 135       | Australia  | asia     | 301415\n",
       "47.3333  | 13.3333   | Austria    | europe   | 28533\n",
       "40.5     | 47.5      | Azerbaijan | europe   | 28210\n",
       "-3.5     | 30        | Burundi    | africa   | 7.69378e+06\n",
       "50.75    | 4.5       | Belgium    | europe   | 54650\n",
       "9.5      | 2.25      | Benin      | africa   | 4.90801e+06\n",
       "... (135 rows omitted)"
      ]
     },
     "execution_count": 43,
     "metadata": {},
     "output_type": "execute_result"
    }
   ],
   "source": [
    "country = countries.select('country', 'name', 'world_4region', 'latitude', 'longitude')\n",
    "poverty_map = country.join('country', recent, 'geo').relabel('world_4region', 'region').select(3, 4, 1, 2, 7)\n",
    "poverty_map"
   ]
  },
  {
   "cell_type": "code",
   "execution_count": 44,
   "metadata": {
    "deletable": false,
    "editable": false
   },
   "outputs": [
    {
     "name": "stdout",
     "output_type": "stream",
     "text": [
      "~~~~~~~~~~~~~~~~~~~~~~~~~~~~~~~~~~~~~~~~~~~~~~~~~~~~~~~~~~~~~~~~~~~~~\n",
      "Running tests\n",
      "\n",
      "---------------------------------------------------------------------\n",
      "Test summary\n",
      "    Passed: 2\n",
      "    Failed: 0\n",
      "[ooooooooook] 100.0% passed\n",
      "\n"
     ]
    }
   ],
   "source": [
    "_ = ok.grade('q2_4')"
   ]
  },
  {
   "cell_type": "markdown",
   "metadata": {
    "deletable": false,
    "editable": false
   },
   "source": [
    "Run the cell below to draw a map of the world in which the areas of circles represent the number of people living in extreme poverty. Double-click on the map to zoom in."
   ]
  },
  {
   "cell_type": "code",
   "execution_count": 45,
   "metadata": {
    "deletable": false,
    "editable": false
   },
   "outputs": [
    {
     "data": {
      "text/html": [
       "<iframe srcdoc=\"<!DOCTYPE html>\n",
       "<head>\n",
       "   <meta http-equiv=&quot;content-type&quot; content=&quot;text/html; charset=UTF-8&quot; />\n",
       "   <link rel=&quot;stylesheet&quot; href=&quot;https://cdnjs.cloudflare.com/ajax/libs/leaflet/0.7.3/leaflet.css&quot; />\n",
       "   <script src=&quot;https://cdnjs.cloudflare.com/ajax/libs/leaflet/0.7.3/leaflet.js&quot;></script>\n",
       "\n",
       "   <script src=&quot;https://ajax.googleapis.com/ajax/libs/jquery/1.11.1/jquery.min.js&quot;></script>\n",
       "\n",
       "   <link rel=&quot;stylesheet&quot; href=&quot;https://maxcdn.bootstrapcdn.com/bootstrap/3.2.0/css/bootstrap.min.css&quot;>\n",
       "   <link rel=&quot;stylesheet&quot; href=&quot;https://maxcdn.bootstrapcdn.com/bootstrap/3.2.0/css/bootstrap-theme.min.css&quot;>\n",
       "   <script src=&quot;https://maxcdn.bootstrapcdn.com/bootstrap/3.2.0/js/bootstrap.min.js&quot;></script>\n",
       "\n",
       "   <link href=&quot;https://maxcdn.bootstrapcdn.com/font-awesome/4.1.0/css/font-awesome.min.css&quot; rel=&quot;stylesheet&quot;>\n",
       "\n",
       "   <link rel=&quot;stylesheet&quot; href=&quot;https://rawgit.com/lvoogdt/Leaflet.awesome-markers/2.0/develop/dist/leaflet.awesome-markers.css&quot;>\n",
       "   <script src=&quot;https://rawgithub.com/lvoogdt/Leaflet.awesome-markers/2.0/develop/dist/leaflet.awesome-markers.js&quot;></script>\n",
       "\n",
       "\n",
       "   <link rel=&quot;stylesheet&quot; href=&quot;https://cdnjs.cloudflare.com/ajax/libs/leaflet.markercluster/0.4.0/MarkerCluster.Default.css&quot;>\n",
       "   <link rel=&quot;stylesheet&quot; href=&quot;https://cdnjs.cloudflare.com/ajax/libs/leaflet.markercluster/0.4.0/MarkerCluster.css&quot;>\n",
       "   <script src=&quot;https://cdnjs.cloudflare.com/ajax/libs/leaflet.markercluster/0.4.0/leaflet.markercluster-src.js&quot;></script>\n",
       "   <script src=&quot;https://cdnjs.cloudflare.com/ajax/libs/leaflet.markercluster/0.4.0/leaflet.markercluster.js&quot;></script>\n",
       "\n",
       "   <link rel=&quot;stylesheet&quot; href=&quot;https://birdage.github.io/Leaflet.awesome-markers/dist/leaflet.awesome.rotate.css&quot;>\n",
       "\n",
       "   \n",
       "   \n",
       "   \n",
       "   \n",
       "\n",
       "   <style>\n",
       "\n",
       "      html, body {\n",
       "        width: 100%;\n",
       "        height: 100%;\n",
       "        margin: 0;\n",
       "        padding: 0;\n",
       "      }\n",
       "\n",
       "      #map {\n",
       "        position:absolute;\n",
       "        top:0;\n",
       "        bottom:0;\n",
       "        right:0;\n",
       "        left:0;\n",
       "      }\n",
       "\n",
       "   </style>\n",
       "</head>\n",
       "\n",
       "<body>\n",
       "\n",
       "   <div class=&quot;folium-map&quot; id=&quot;folium_c89c933b800248d59934f3e50fbf6583&quot; style=&quot;width: 960px; height: 500px&quot;></div>\n",
       "\n",
       "   <script>\n",
       "\n",
       "      \n",
       "\n",
       "      var base_tile = L.tileLayer('https://{s}.tile.openstreetmap.org/{z}/{x}/{y}.png', {\n",
       "          maxZoom: 17,\n",
       "          minZoom: -1,\n",
       "          attribution: 'Map data (c) <a href=&quot;http://openstreetmap.org&quot;>OpenStreetMap</a> contributors'\n",
       "      });\n",
       "\n",
       "      var baseLayer = {\n",
       "        &quot;Base Layer&quot;: base_tile\n",
       "      };\n",
       "\n",
       "      /*\n",
       "      addition of the wms layers\n",
       "      */\n",
       "\n",
       "      \n",
       "\n",
       "      /*\n",
       "      addition of the tile layers\n",
       "      */\n",
       "      \n",
       "\n",
       "      /*\n",
       "      list of layers to be added\n",
       "      */\n",
       "      var layer_list = {\n",
       "      \n",
       "      };\n",
       "\n",
       "      /*\n",
       "      Bounding box.\n",
       "      */\n",
       "      var southWest = L.latLng(-90, -180),\n",
       "          northEast = L.latLng(90, 180),\n",
       "          bounds = L.latLngBounds(southWest, northEast);\n",
       "\n",
       "      /*\n",
       "      Creates the map and adds the selected layers\n",
       "      */\n",
       "      var map = L.map('folium_c89c933b800248d59934f3e50fbf6583', {\n",
       "                                       center:[15.0, 32.17871],\n",
       "                                       zoom: 1,\n",
       "                                       maxBounds: bounds,\n",
       "                                       layers: [base_tile]\n",
       "                                     });\n",
       "\n",
       "      L.control.layers(baseLayer, layer_list).addTo(map);\n",
       "\n",
       "      //cluster group\n",
       "      var clusteredmarkers = L.markerClusterGroup();\n",
       "      //section for adding clustered markers\n",
       "      \n",
       "      //add the clustered markers to the group anyway\n",
       "      map.addLayer(clusteredmarkers);\n",
       "\n",
       "      \n",
       "\n",
       "      \n",
       "      var circle_1 = L.circle([-12.5, 18.5], 136562.687236, {\n",
       "                            color: 'None',\n",
       "                            fillColor: 'blue',\n",
       "                            fillOpacity: 0.6\n",
       "                            });\n",
       "      circle_1.bindPopup(&quot;Angola&quot;);\n",
       "      circle_1._popup.options.maxWidth = 300;\n",
       "      map.addLayer(circle_1)\n",
       "      \n",
       "      var circle_2 = L.circle([41.0, 20.0], 5201.03159083, {\n",
       "                            color: 'None',\n",
       "                            fillColor: 'black',\n",
       "                            fillOpacity: 0.6\n",
       "                            });\n",
       "      circle_2.bindPopup(&quot;Albania&quot;);\n",
       "      circle_2._popup.options.maxWidth = 300;\n",
       "      map.addLayer(circle_2)\n",
       "      \n",
       "      var circle_3 = L.circle([-34.0, -64.0], 34319.740309, {\n",
       "                            color: 'None',\n",
       "                            fillColor: 'green',\n",
       "                            fillOpacity: 0.6\n",
       "                            });\n",
       "      circle_3.bindPopup(&quot;Argentina&quot;);\n",
       "      circle_3._popup.options.maxWidth = 300;\n",
       "      map.addLayer(circle_3)\n",
       "      \n",
       "      var circle_4 = L.circle([40.25, 45.0], 10251.4563891, {\n",
       "                            color: 'None',\n",
       "                            fillColor: 'black',\n",
       "                            fillOpacity: 0.6\n",
       "                            });\n",
       "      circle_4.bindPopup(&quot;Armenia&quot;);\n",
       "      circle_4._popup.options.maxWidth = 300;\n",
       "      map.addLayer(circle_4)\n",
       "      \n",
       "      var circle_5 = L.circle([-25.0, 135.0], 24714.256844, {\n",
       "                            color: 'None',\n",
       "                            fillColor: 'red',\n",
       "                            fillOpacity: 0.6\n",
       "                            });\n",
       "      circle_5.bindPopup(&quot;Australia&quot;);\n",
       "      circle_5._popup.options.maxWidth = 300;\n",
       "      map.addLayer(circle_5)\n",
       "      \n",
       "      var circle_6 = L.circle([47.33333, 13.33333], 7603.94283627, {\n",
       "                            color: 'None',\n",
       "                            fillColor: 'black',\n",
       "                            fillOpacity: 0.6\n",
       "                            });\n",
       "      circle_6.bindPopup(&quot;Austria&quot;);\n",
       "      circle_6._popup.options.maxWidth = 300;\n",
       "      map.addLayer(circle_6)\n",
       "      \n",
       "      var circle_7 = L.circle([40.5, 47.5], 7560.78116407, {\n",
       "                            color: 'None',\n",
       "                            fillColor: 'black',\n",
       "                            fillOpacity: 0.6\n",
       "                            });\n",
       "      circle_7.bindPopup(&quot;Azerbaijan&quot;);\n",
       "      circle_7._popup.options.maxWidth = 300;\n",
       "      map.addLayer(circle_7)\n",
       "      \n",
       "      var circle_8 = L.circle([-3.5, 30.0], 124863.357017, {\n",
       "                            color: 'None',\n",
       "                            fillColor: 'blue',\n",
       "                            fillOpacity: 0.6\n",
       "                            });\n",
       "      circle_8.bindPopup(&quot;Burundi&quot;);\n",
       "      circle_8._popup.options.maxWidth = 300;\n",
       "      map.addLayer(circle_8)\n",
       "      \n",
       "      var circle_9 = L.circle([50.75, 4.5], 10523.5000699, {\n",
       "                            color: 'None',\n",
       "                            fillColor: 'black',\n",
       "                            fillOpacity: 0.6\n",
       "                            });\n",
       "      circle_9.bindPopup(&quot;Belgium&quot;);\n",
       "      circle_9._popup.options.maxWidth = 300;\n",
       "      map.addLayer(circle_9)\n",
       "      \n",
       "      var circle_10 = L.circle([9.5, 2.25], 99728.1383126, {\n",
       "                            color: 'None',\n",
       "                            fillColor: 'blue',\n",
       "                            fillOpacity: 0.6\n",
       "                            });\n",
       "      circle_10.bindPopup(&quot;Benin&quot;);\n",
       "      circle_10._popup.options.maxWidth = 300;\n",
       "      map.addLayer(circle_10)\n",
       "      \n",
       "      var circle_11 = L.circle([12.5, -1.66667], 118674.677061, {\n",
       "                            color: 'None',\n",
       "                            fillColor: 'blue',\n",
       "                            fillOpacity: 0.6\n",
       "                            });\n",
       "      circle_11.bindPopup(&quot;Burkina Faso&quot;);\n",
       "      circle_11._popup.options.maxWidth = 300;\n",
       "      map.addLayer(circle_11)\n",
       "      \n",
       "      var circle_12 = L.circle([24.0, 90.0], 364528.770727, {\n",
       "                            color: 'None',\n",
       "                            fillColor: 'red',\n",
       "                            fillOpacity: 0.6\n",
       "                            });\n",
       "      circle_12.bindPopup(&quot;Bangladesh&quot;);\n",
       "      circle_12._popup.options.maxWidth = 300;\n",
       "      map.addLayer(circle_12)\n",
       "      \n",
       "      var circle_13 = L.circle([42.66667, 25.25], 16887.7719458, {\n",
       "                            color: 'None',\n",
       "                            fillColor: 'black',\n",
       "                            fillOpacity: 0.6\n",
       "                            });\n",
       "      circle_13.bindPopup(&quot;Bulgaria&quot;);\n",
       "      circle_13._popup.options.maxWidth = 300;\n",
       "      map.addLayer(circle_13)\n",
       "      \n",
       "      var circle_14 = L.circle([44.25, 17.83333], 1763.10348935, {\n",
       "                            color: 'None',\n",
       "                            fillColor: 'black',\n",
       "                            fillOpacity: 0.6\n",
       "                            });\n",
       "      circle_14.bindPopup(&quot;Bosnia and Herzegovina&quot;);\n",
       "      circle_14._popup.options.maxWidth = 300;\n",
       "      map.addLayer(circle_14)\n",
       "      \n",
       "      var circle_15 = L.circle([53.0, 28.0], 0.0, {\n",
       "                            color: 'None',\n",
       "                            fillColor: 'black',\n",
       "                            fillOpacity: 0.6\n",
       "                            });\n",
       "      circle_15.bindPopup(&quot;Belarus&quot;);\n",
       "      circle_15._popup.options.maxWidth = 300;\n",
       "      map.addLayer(circle_15)\n",
       "      \n",
       "      var circle_16 = L.circle([17.49952, -88.19756], 8920.40384654, {\n",
       "                            color: 'None',\n",
       "                            fillColor: 'green',\n",
       "                            fillOpacity: 0.6\n",
       "                            });\n",
       "      circle_16.bindPopup(&quot;Belize&quot;);\n",
       "      circle_16._popup.options.maxWidth = 300;\n",
       "      map.addLayer(circle_16)\n",
       "      \n",
       "      var circle_17 = L.circle([-17.0, -65.0], 40048.2921345, {\n",
       "                            color: 'None',\n",
       "                            fillColor: 'green',\n",
       "                            fillOpacity: 0.6\n",
       "                            });\n",
       "      circle_17.bindPopup(&quot;Bolivia&quot;);\n",
       "      circle_17._popup.options.maxWidth = 300;\n",
       "      map.addLayer(circle_17)\n",
       "      \n",
       "      var circle_18 = L.circle([-10.0, -55.0], 122853.043867, {\n",
       "                            color: 'None',\n",
       "                            fillColor: 'green',\n",
       "                            fillOpacity: 0.6\n",
       "                            });\n",
       "      circle_18.bindPopup(&quot;Brazil&quot;);\n",
       "      circle_18._popup.options.maxWidth = 300;\n",
       "      map.addLayer(circle_18)\n",
       "      \n",
       "      var circle_19 = L.circle([27.5, 90.5], 5893.80646102, {\n",
       "                            color: 'None',\n",
       "                            fillColor: 'red',\n",
       "                            fillOpacity: 0.6\n",
       "                            });\n",
       "      circle_19.bindPopup(&quot;Bhutan&quot;);\n",
       "      circle_19._popup.options.maxWidth = 300;\n",
       "      map.addLayer(circle_19)\n",
       "      \n",
       "      var circle_20 = L.circle([-22.0, 24.0], 23589.9196797, {\n",
       "                            color: 'None',\n",
       "                            fillColor: 'blue',\n",
       "                            fillOpacity: 0.6\n",
       "                            });\n",
       "      circle_20.bindPopup(&quot;Botswana&quot;);\n",
       "      circle_20._popup.options.maxWidth = 300;\n",
       "      map.addLayer(circle_20)\n",
       "      \n",
       "      var circle_21 = L.circle([7.0, 21.0], 75228.6476403, {\n",
       "                            color: 'None',\n",
       "                            fillColor: 'blue',\n",
       "                            fillOpacity: 0.6\n",
       "                            });\n",
       "      circle_21.bindPopup(&quot;Central African Republic&quot;);\n",
       "      circle_21._popup.options.maxWidth = 300;\n",
       "      map.addLayer(circle_21)\n",
       "      \n",
       "      var circle_22 = L.circle([60.10867, -113.64258], 15333.7507589, {\n",
       "                            color: 'None',\n",
       "                            fillColor: 'green',\n",
       "                            fillOpacity: 0.6\n",
       "                            });\n",
       "      circle_22.bindPopup(&quot;Canada&quot;);\n",
       "      circle_22._popup.options.maxWidth = 300;\n",
       "      map.addLayer(circle_22)\n",
       "      \n",
       "      var circle_23 = L.circle([47.00016, 8.01427], 10310.9804575, {\n",
       "                            color: 'None',\n",
       "                            fillColor: 'black',\n",
       "                            fillOpacity: 0.6\n",
       "                            });\n",
       "      circle_23.bindPopup(&quot;Switzerland&quot;);\n",
       "      circle_23._popup.options.maxWidth = 300;\n",
       "      map.addLayer(circle_23)\n",
       "      \n",
       "      var circle_24 = L.circle([-33.45694, -70.64827], 16916.9052488, {\n",
       "                            color: 'None',\n",
       "                            fillColor: 'green',\n",
       "                            fillOpacity: 0.6\n",
       "                            });\n",
       "      circle_24.bindPopup(&quot;Chile&quot;);\n",
       "      circle_24._popup.options.maxWidth = 300;\n",
       "      map.addLayer(circle_24)\n",
       "      \n",
       "      var circle_25 = L.circle([35.0, 105.0], 412440.797914, {\n",
       "                            color: 'None',\n",
       "                            fillColor: 'red',\n",
       "                            fillOpacity: 0.6\n",
       "                            });\n",
       "      circle_25.bindPopup(&quot;China&quot;);\n",
       "      circle_25._popup.options.maxWidth = 300;\n",
       "      map.addLayer(circle_25)\n",
       "      \n",
       "      var circle_26 = L.circle([8.0, -5.5], 119560.430544, {\n",
       "                            color: 'None',\n",
       "                            fillColor: 'blue',\n",
       "                            fillOpacity: 0.6\n",
       "                            });\n",
       "      circle_26.bindPopup(&quot;Cote d'Ivoire&quot;);\n",
       "      circle_26._popup.options.maxWidth = 300;\n",
       "      map.addLayer(circle_26)\n",
       "      \n",
       "      var circle_27 = L.circle([6.0, 12.5], 107333.064679, {\n",
       "                            color: 'None',\n",
       "                            fillColor: 'blue',\n",
       "                            fillOpacity: 0.6\n",
       "                            });\n",
       "      circle_27.bindPopup(&quot;Cameroon&quot;);\n",
       "      circle_27._popup.options.maxWidth = 300;\n",
       "      map.addLayer(circle_27)\n",
       "      \n",
       "      var circle_28 = L.circle([-2.5, 23.5], 342361.299265, {\n",
       "                            color: 'None',\n",
       "                            fillColor: 'blue',\n",
       "                            fillOpacity: 0.6\n",
       "                            });\n",
       "      circle_28.bindPopup(&quot;Congo, Dem. Rep.&quot;);\n",
       "      circle_28._popup.options.maxWidth = 300;\n",
       "      map.addLayer(circle_28)\n",
       "      \n",
       "      var circle_29 = L.circle([-1.0, 15.5], 52002.2696419, {\n",
       "                            color: 'None',\n",
       "                            fillColor: 'blue',\n",
       "                            fillOpacity: 0.6\n",
       "                            });\n",
       "      circle_29.bindPopup(&quot;Congo, Rep.&quot;);\n",
       "      circle_29._popup.options.maxWidth = 300;\n",
       "      map.addLayer(circle_29)\n",
       "      \n",
       "      var circle_30 = L.circle([4.0, -73.25], 72378.7827224, {\n",
       "                            color: 'None',\n",
       "                            fillColor: 'green',\n",
       "                            fillOpacity: 0.6\n",
       "                            });\n",
       "      circle_30.bindPopup(&quot;Colombia&quot;);\n",
       "      circle_30._popup.options.maxWidth = 300;\n",
       "      map.addLayer(circle_30)\n",
       "      \n",
       "      var circle_31 = L.circle([-12.23333, 44.44553], 25550.9072605, {\n",
       "                            color: 'None',\n",
       "                            fillColor: 'blue',\n",
       "                            fillOpacity: 0.6\n",
       "                            });\n",
       "      circle_31.bindPopup(&quot;Comoros&quot;);\n",
       "      circle_31._popup.options.maxWidth = 300;\n",
       "      map.addLayer(circle_31)\n",
       "      \n",
       "      var circle_32 = L.circle([16.0, -24.0], 11676.3772082, {\n",
       "                            color: 'None',\n",
       "                            fillColor: 'blue',\n",
       "                            fillOpacity: 0.6\n",
       "                            });\n",
       "      circle_32.bindPopup(&quot;Cape Verde&quot;);\n",
       "      circle_32._popup.options.maxWidth = 300;\n",
       "      map.addLayer(circle_32)\n",
       "      \n",
       "      var circle_33 = L.circle([10.0, -84.0], 11150.9364176, {\n",
       "                            color: 'None',\n",
       "                            fillColor: 'green',\n",
       "                            fillOpacity: 0.6\n",
       "                            });\n",
       "      circle_33.bindPopup(&quot;Costa Rica&quot;);\n",
       "      circle_33._popup.options.maxWidth = 300;\n",
       "      map.addLayer(circle_33)\n",
       "      \n",
       "      var circle_34 = L.circle([49.75, 15.0], 2527.30833434, {\n",
       "                            color: 'None',\n",
       "                            fillColor: 'black',\n",
       "                            fillOpacity: 0.6\n",
       "                            });\n",
       "      circle_34.bindPopup(&quot;Czech Republic&quot;);\n",
       "      circle_34._popup.options.maxWidth = 300;\n",
       "      map.addLayer(circle_34)\n",
       "      \n",
       "      var circle_35 = L.circle([51.5, 10.5], 23541.1628016, {\n",
       "                            color: 'None',\n",
       "                            fillColor: 'black',\n",
       "                            fillOpacity: 0.6\n",
       "                            });\n",
       "      circle_35.bindPopup(&quot;Germany&quot;);\n",
       "      circle_35._popup.options.maxWidth = 300;\n",
       "      map.addLayer(circle_35)\n",
       "      \n",
       "      var circle_36 = L.circle([11.58901, 43.14503], 17804.8790892, {\n",
       "                            color: 'None',\n",
       "                            fillColor: 'blue',\n",
       "                            fillOpacity: 0.6\n",
       "                            });\n",
       "      circle_36.bindPopup(&quot;Djibouti&quot;);\n",
       "      circle_36._popup.options.maxWidth = 300;\n",
       "      map.addLayer(circle_36)\n",
       "      \n",
       "      var circle_37 = L.circle([56.0, 10.0], 8681.28578131, {\n",
       "                            color: 'None',\n",
       "                            fillColor: 'black',\n",
       "                            fillOpacity: 0.6\n",
       "                            });\n",
       "      circle_37.bindPopup(&quot;Denmark&quot;);\n",
       "      circle_37._popup.options.maxWidth = 300;\n",
       "      map.addLayer(circle_37)\n",
       "      \n",
       "      var circle_38 = L.circle([19.0, -70.66667], 21243.6975139, {\n",
       "                            color: 'None',\n",
       "                            fillColor: 'green',\n",
       "                            fillOpacity: 0.6\n",
       "                            });\n",
       "      circle_38.bindPopup(&quot;Dominican Republic&quot;);\n",
       "      circle_38._popup.options.maxWidth = 300;\n",
       "      map.addLayer(circle_38)\n",
       "      \n",
       "      var circle_39 = L.circle([28.0, 3.0], 68256.6103114, {\n",
       "                            color: 'None',\n",
       "                            fillColor: 'blue',\n",
       "                            fillOpacity: 0.6\n",
       "                            });\n",
       "      circle_39.bindPopup(&quot;Algeria&quot;);\n",
       "      circle_39._popup.options.maxWidth = 300;\n",
       "      map.addLayer(circle_39)\n",
       "      \n",
       "      var circle_40 = L.circle([-1.25, -78.25], 34574.9599144, {\n",
       "                            color: 'None',\n",
       "                            fillColor: 'green',\n",
       "                            fillOpacity: 0.6\n",
       "                            });\n",
       "      circle_40.bindPopup(&quot;Ecuador&quot;);\n",
       "      circle_40._popup.options.maxWidth = 300;\n",
       "      map.addLayer(circle_40)\n",
       "      \n",
       "      var circle_41 = L.circle([27.0, 30.0], 52848.8169936, {\n",
       "                            color: 'None',\n",
       "                            fillColor: 'blue',\n",
       "                            fillOpacity: 0.6\n",
       "                            });\n",
       "      circle_41.bindPopup(&quot;Egypt&quot;);\n",
       "      circle_41._popup.options.maxWidth = 300;\n",
       "      map.addLayer(circle_41)\n",
       "      \n",
       "      var circle_42 = L.circle([40.0, -4.0], 47008.1307291, {\n",
       "                            color: 'None',\n",
       "                            fillColor: 'black',\n",
       "                            fillOpacity: 0.6\n",
       "                            });\n",
       "      circle_42.bindPopup(&quot;Spain&quot;);\n",
       "      circle_42._popup.options.maxWidth = 300;\n",
       "      map.addLayer(circle_42)\n",
       "      \n",
       "      var circle_43 = L.circle([59.0, 26.0], 5143.24164563, {\n",
       "                            color: 'None',\n",
       "                            fillColor: 'black',\n",
       "                            fillOpacity: 0.6\n",
       "                            });\n",
       "      circle_43.bindPopup(&quot;Estonia&quot;);\n",
       "      circle_43._popup.options.maxWidth = 300;\n",
       "      map.addLayer(circle_43)\n",
       "      \n",
       "      var circle_44 = L.circle([9.0, 39.5], 255497.933376, {\n",
       "                            color: 'None',\n",
       "                            fillColor: 'blue',\n",
       "                            fillOpacity: 0.6\n",
       "                            });\n",
       "      circle_44.bindPopup(&quot;Ethiopia&quot;);\n",
       "      circle_44._popup.options.maxWidth = 300;\n",
       "      map.addLayer(circle_44)\n",
       "      \n",
       "      var circle_45 = L.circle([64.0, 26.0], 0.0, {\n",
       "                            color: 'None',\n",
       "                            fillColor: 'black',\n",
       "                            fillOpacity: 0.6\n",
       "                            });\n",
       "      circle_45.bindPopup(&quot;Finland&quot;);\n",
       "      circle_45._popup.options.maxWidth = 300;\n",
       "      map.addLayer(circle_45)\n",
       "      \n",
       "      var circle_46 = L.circle([-18.0, 178.0], 10122.5546685, {\n",
       "                            color: 'None',\n",
       "                            fillColor: 'red',\n",
       "                            fillOpacity: 0.6\n",
       "                            });\n",
       "      circle_46.bindPopup(&quot;Fiji&quot;);\n",
       "      circle_46._popup.options.maxWidth = 300;\n",
       "      map.addLayer(circle_46)\n",
       "      \n",
       "      var circle_47 = L.circle([46.0, 2.0], 20519.1154623, {\n",
       "                            color: 'None',\n",
       "                            fillColor: 'black',\n",
       "                            fillOpacity: 0.6\n",
       "                            });\n",
       "      circle_47.bindPopup(&quot;France&quot;);\n",
       "      circle_47._popup.options.maxWidth = 300;\n",
       "      map.addLayer(circle_47)\n",
       "      \n",
       "      var circle_48 = L.circle([6.924, 158.162], 8087.45181676, {\n",
       "                            color: 'None',\n",
       "                            fillColor: 'red',\n",
       "                            fillOpacity: 0.6\n",
       "                            });\n",
       "      circle_48.bindPopup(&quot;Micronesia, Fed. Sts.&quot;);\n",
       "      circle_48._popup.options.maxWidth = 300;\n",
       "      map.addLayer(circle_48)\n",
       "      \n",
       "      var circle_49 = L.circle([-1.0, 11.75], 13794.5383603, {\n",
       "                            color: 'None',\n",
       "                            fillColor: 'blue',\n",
       "                            fillOpacity: 0.6\n",
       "                            });\n",
       "      circle_49.bindPopup(&quot;Gabon&quot;);\n",
       "      circle_49._popup.options.maxWidth = 300;\n",
       "      map.addLayer(circle_49)\n",
       "      \n",
       "      var circle_50 = L.circle([54.75844, -2.69531], 35827.5841344, {\n",
       "                            color: 'None',\n",
       "                            fillColor: 'black',\n",
       "                            fillOpacity: 0.6\n",
       "                            });\n",
       "      circle_50.bindPopup(&quot;United Kingdom&quot;);\n",
       "      circle_50._popup.options.maxWidth = 300;\n",
       "      map.addLayer(circle_50)\n",
       "      \n",
       "      var circle_51 = L.circle([41.99998, 43.4999], 34897.2464279, {\n",
       "                            color: 'None',\n",
       "                            fillColor: 'black',\n",
       "                            fillOpacity: 0.6\n",
       "                            });\n",
       "      circle_51.bindPopup(&quot;Georgia&quot;);\n",
       "      circle_51._popup.options.maxWidth = 300;\n",
       "      map.addLayer(circle_51)\n",
       "      \n",
       "      var circle_52 = L.circle([8.1, -1.2], 118695.362167, {\n",
       "                            color: 'None',\n",
       "                            fillColor: 'blue',\n",
       "                            fillOpacity: 0.6\n",
       "                            });\n",
       "      circle_52.bindPopup(&quot;Ghana&quot;);\n",
       "      circle_52._popup.options.maxWidth = 300;\n",
       "      map.addLayer(circle_52)\n",
       "      \n",
       "      var circle_53 = L.circle([10.83333, -10.66667], 95501.1354594, {\n",
       "                            color: 'None',\n",
       "                            fillColor: 'blue',\n",
       "                            fillOpacity: 0.6\n",
       "                            });\n",
       "      circle_53.bindPopup(&quot;Guinea&quot;);\n",
       "      circle_53._popup.options.maxWidth = 300;\n",
       "      map.addLayer(circle_53)\n",
       "      \n",
       "      var circle_54 = L.circle([13.5, -15.5], 33967.0208158, {\n",
       "                            color: 'None',\n",
       "                            fillColor: 'blue',\n",
       "                            fillOpacity: 0.6\n",
       "                            });\n",
       "      circle_54.bindPopup(&quot;Gambia&quot;);\n",
       "      circle_54._popup.options.maxWidth = 300;\n",
       "      map.addLayer(circle_54)\n",
       "      \n",
       "      var circle_55 = L.circle([12.0, -15.0], 40241.269094, {\n",
       "                            color: 'None',\n",
       "                            fillColor: 'blue',\n",
       "                            fillOpacity: 0.6\n",
       "                            });\n",
       "      circle_55.bindPopup(&quot;Guinea-Bissau&quot;);\n",
       "      circle_55._popup.options.maxWidth = 300;\n",
       "      map.addLayer(circle_55)\n",
       "      \n",
       "      var circle_56 = L.circle([39.0, 22.0], 17615.6268657, {\n",
       "                            color: 'None',\n",
       "                            fillColor: 'black',\n",
       "                            fillOpacity: 0.6\n",
       "                            });\n",
       "      circle_56.bindPopup(&quot;Greece&quot;);\n",
       "      circle_56._popup.options.maxWidth = 300;\n",
       "      map.addLayer(circle_56)\n",
       "      \n",
       "      var circle_57 = L.circle([14.64072, -90.51327], 63952.8844336, {\n",
       "                            color: 'None',\n",
       "                            fillColor: 'green',\n",
       "                            fillOpacity: 0.6\n",
       "                            });\n",
       "      circle_57.bindPopup(&quot;Guatemala&quot;);\n",
       "      circle_57._popup.options.maxWidth = 300;\n",
       "      map.addLayer(circle_57)\n",
       "      \n",
       "      var circle_58 = L.circle([5.0, -59.0], 11524.5763638, {\n",
       "                            color: 'None',\n",
       "                            fillColor: 'green',\n",
       "                            fillOpacity: 0.6\n",
       "                            });\n",
       "      circle_58.bindPopup(&quot;Guyana&quot;);\n",
       "      circle_58._popup.options.maxWidth = 300;\n",
       "      map.addLayer(circle_58)\n",
       "      \n",
       "      var circle_59 = L.circle([15.0, -86.5], 50059.5100292, {\n",
       "                            color: 'None',\n",
       "                            fillColor: 'green',\n",
       "                            fillOpacity: 0.6\n",
       "                            });\n",
       "      circle_59.bindPopup(&quot;Honduras&quot;);\n",
       "      circle_59._popup.options.maxWidth = 300;\n",
       "      map.addLayer(circle_59)\n",
       "      \n",
       "      var circle_60 = L.circle([45.16667, 15.5], 0.0, {\n",
       "                            color: 'None',\n",
       "                            fillColor: 'black',\n",
       "                            fillOpacity: 0.6\n",
       "                            });\n",
       "      circle_60.bindPopup(&quot;Croatia&quot;);\n",
       "      circle_60._popup.options.maxWidth = 300;\n",
       "      map.addLayer(circle_60)\n",
       "      \n",
       "      var circle_61 = L.circle([19.0, -72.41667], 111823.889438, {\n",
       "                            color: 'None',\n",
       "                            fillColor: 'green',\n",
       "                            fillOpacity: 0.6\n",
       "                            });\n",
       "      circle_61.bindPopup(&quot;Haiti&quot;);\n",
       "      circle_61._popup.options.maxWidth = 300;\n",
       "      map.addLayer(circle_61)\n",
       "      \n",
       "      var circle_62 = L.circle([47.0, 20.0], 3185.32625173, {\n",
       "                            color: 'None',\n",
       "                            fillColor: 'black',\n",
       "                            fillOpacity: 0.6\n",
       "                            });\n",
       "      circle_62.bindPopup(&quot;Hungary&quot;);\n",
       "      circle_62._popup.options.maxWidth = 300;\n",
       "      map.addLayer(circle_62)\n",
       "      \n",
       "      var circle_63 = L.circle([-5.0, 120.0], 281632.579069, {\n",
       "                            color: 'None',\n",
       "                            fillColor: 'red',\n",
       "                            fillOpacity: 0.6\n",
       "                            });\n",
       "      circle_63.bindPopup(&quot;Indonesia&quot;);\n",
       "      circle_63._popup.options.maxWidth = 300;\n",
       "      map.addLayer(circle_63)\n",
       "      \n",
       "      var circle_64 = L.circle([22.0, 79.0], 767756.105309, {\n",
       "                            color: 'None',\n",
       "                            fillColor: 'red',\n",
       "                            fillOpacity: 0.6\n",
       "                            });\n",
       "      circle_64.bindPopup(&quot;India&quot;);\n",
       "      circle_64._popup.options.maxWidth = 300;\n",
       "      map.addLayer(circle_64)\n",
       "      \n",
       "      var circle_65 = L.circle([53.0, -8.0], 5803.72417419, {\n",
       "                            color: 'None',\n",
       "                            fillColor: 'black',\n",
       "                            fillOpacity: 0.6\n",
       "                            });\n",
       "      circle_65.bindPopup(&quot;Ireland&quot;);\n",
       "      circle_65._popup.options.maxWidth = 300;\n",
       "      map.addLayer(circle_65)\n",
       "      \n",
       "      var circle_66 = L.circle([32.0, 53.0], 46709.7172068, {\n",
       "                            color: 'None',\n",
       "                            fillColor: 'red',\n",
       "                            fillOpacity: 0.6\n",
       "                            });\n",
       "      circle_66.bindPopup(&quot;Iran&quot;);\n",
       "      circle_66._popup.options.maxWidth = 300;\n",
       "      map.addLayer(circle_66)\n",
       "      \n",
       "      var circle_67 = L.circle([33.0, 44.0], 49454.8472834, {\n",
       "                            color: 'None',\n",
       "                            fillColor: 'red',\n",
       "                            fillOpacity: 0.6\n",
       "                            });\n",
       "      circle_67.bindPopup(&quot;Iraq&quot;);\n",
       "      circle_67._popup.options.maxWidth = 300;\n",
       "      map.addLayer(circle_67)\n",
       "      \n",
       "      var circle_68 = L.circle([31.5, 34.75], 7657.85052534, {\n",
       "                            color: 'None',\n",
       "                            fillColor: 'red',\n",
       "                            fillOpacity: 0.6\n",
       "                            });\n",
       "      circle_68.bindPopup(&quot;Israel&quot;);\n",
       "      circle_68._popup.options.maxWidth = 300;\n",
       "      map.addLayer(circle_68)\n",
       "      \n",
       "      var circle_69 = L.circle([42.83333, 12.83333], 40374.8957465, {\n",
       "                            color: 'None',\n",
       "                            fillColor: 'black',\n",
       "                            fillOpacity: 0.6\n",
       "                            });\n",
       "      circle_69.bindPopup(&quot;Italy&quot;);\n",
       "      circle_69._popup.options.maxWidth = 300;\n",
       "      map.addLayer(circle_69)\n",
       "      \n",
       "      var circle_70 = L.circle([18.16667, -77.25], 3651.27941189, {\n",
       "                            color: 'None',\n",
       "                            fillColor: 'green',\n",
       "                            fillOpacity: 0.6\n",
       "                            });\n",
       "      circle_70.bindPopup(&quot;Jamaica&quot;);\n",
       "      circle_70._popup.options.maxWidth = 300;\n",
       "      map.addLayer(circle_70)\n",
       "      \n",
       "      var circle_71 = L.circle([31.0, 36.0], 3250.50350411, {\n",
       "                            color: 'None',\n",
       "                            fillColor: 'red',\n",
       "                            fillOpacity: 0.6\n",
       "                            });\n",
       "      circle_71.bindPopup(&quot;Jordan&quot;);\n",
       "      circle_71._popup.options.maxWidth = 300;\n",
       "      map.addLayer(circle_71)\n",
       "      \n",
       "      var circle_72 = L.circle([35.68536, 139.75309], 30050.1728892, {\n",
       "                            color: 'None',\n",
       "                            fillColor: 'red',\n",
       "                            fillOpacity: 0.6\n",
       "                            });\n",
       "      circle_72.bindPopup(&quot;Japan&quot;);\n",
       "      circle_72._popup.options.maxWidth = 300;\n",
       "      map.addLayer(circle_72)\n",
       "      \n",
       "      var circle_73 = L.circle([48.0, 68.0], 4453.15417008, {\n",
       "                            color: 'None',\n",
       "                            fillColor: 'red',\n",
       "                            fillOpacity: 0.6\n",
       "                            });\n",
       "      circle_73.bindPopup(&quot;Kazakhstan&quot;);\n",
       "      circle_73._popup.options.maxWidth = 300;\n",
       "      map.addLayer(circle_73)\n",
       "      \n",
       "      var circle_74 = L.circle([1.0, 38.0], 188262.949931, {\n",
       "                            color: 'None',\n",
       "                            fillColor: 'blue',\n",
       "                            fillOpacity: 0.6\n",
       "                            });\n",
       "      circle_74.bindPopup(&quot;Kenya&quot;);\n",
       "      circle_74._popup.options.maxWidth = 300;\n",
       "      map.addLayer(circle_74)\n",
       "      \n",
       "      var circle_75 = L.circle([41.5, 75.0], 23787.7388581, {\n",
       "                            color: 'None',\n",
       "                            fillColor: 'red',\n",
       "                            fillOpacity: 0.6\n",
       "                            });\n",
       "      circle_75.bindPopup(&quot;Kyrgyz Republic&quot;);\n",
       "      circle_75._popup.options.maxWidth = 300;\n",
       "      map.addLayer(circle_75)\n",
       "      \n",
       "      var circle_76 = L.circle([13.0, 105.0], 54085.3365405, {\n",
       "                            color: 'None',\n",
       "                            fillColor: 'red',\n",
       "                            fillOpacity: 0.6\n",
       "                            });\n",
       "      circle_76.bindPopup(&quot;Cambodia&quot;);\n",
       "      circle_76._popup.options.maxWidth = 300;\n",
       "      map.addLayer(circle_76)\n",
       "      \n",
       "      var circle_77 = L.circle([18.0, 105.0], 61959.1808307, {\n",
       "                            color: 'None',\n",
       "                            fillColor: 'red',\n",
       "                            fillOpacity: 0.6\n",
       "                            });\n",
       "      circle_77.bindPopup(&quot;Lao&quot;);\n",
       "      circle_77._popup.options.maxWidth = 300;\n",
       "      map.addLayer(circle_77)\n",
       "      \n",
       "      var circle_78 = L.circle([6.5, -9.5], 81963.5533472, {\n",
       "                            color: 'None',\n",
       "                            fillColor: 'blue',\n",
       "                            fillOpacity: 0.6\n",
       "                            });\n",
       "      circle_78.bindPopup(&quot;Liberia&quot;);\n",
       "      circle_78._popup.options.maxWidth = 300;\n",
       "      map.addLayer(circle_78)\n",
       "      \n",
       "      var circle_79 = L.circle([13.88333, -60.96667], 8680.23530809, {\n",
       "                            color: 'None',\n",
       "                            fillColor: 'green',\n",
       "                            fillOpacity: 0.6\n",
       "                            });\n",
       "      circle_79.bindPopup(&quot;St. Lucia&quot;);\n",
       "      circle_79._popup.options.maxWidth = 300;\n",
       "      map.addLayer(circle_79)\n",
       "      \n",
       "      var circle_80 = L.circle([7.75, 80.75], 41018.1287792, {\n",
       "                            color: 'None',\n",
       "                            fillColor: 'red',\n",
       "                            fillOpacity: 0.6\n",
       "                            });\n",
       "      circle_80.bindPopup(&quot;Sri Lanka&quot;);\n",
       "      circle_80._popup.options.maxWidth = 300;\n",
       "      map.addLayer(circle_80)\n",
       "      \n",
       "      var circle_81 = L.circle([-29.5, 28.25], 47859.8999688, {\n",
       "                            color: 'None',\n",
       "                            fillColor: 'blue',\n",
       "                            fillOpacity: 0.6\n",
       "                            });\n",
       "      circle_81.bindPopup(&quot;Lesotho&quot;);\n",
       "      circle_81._popup.options.maxWidth = 300;\n",
       "      map.addLayer(circle_81)\n",
       "      \n",
       "      var circle_82 = L.circle([55.41667, 24.0], 7247.40654305, {\n",
       "                            color: 'None',\n",
       "                            fillColor: 'black',\n",
       "                            fillOpacity: 0.6\n",
       "                            });\n",
       "      circle_82.bindPopup(&quot;Lithuania&quot;);\n",
       "      circle_82._popup.options.maxWidth = 300;\n",
       "      map.addLayer(circle_82)\n",
       "      \n",
       "      var circle_83 = L.circle([57.0, 25.0], 6732.68676963, {\n",
       "                            color: 'None',\n",
       "                            fillColor: 'black',\n",
       "                            fillOpacity: 0.6\n",
       "                            });\n",
       "      circle_83.bindPopup(&quot;Latvia&quot;);\n",
       "      circle_83._popup.options.maxWidth = 300;\n",
       "      map.addLayer(circle_83)\n",
       "      \n",
       "      var circle_84 = L.circle([32.0, -6.0], 40891.8328728, {\n",
       "                            color: 'None',\n",
       "                            fillColor: 'blue',\n",
       "                            fillOpacity: 0.6\n",
       "                            });\n",
       "      circle_84.bindPopup(&quot;Morocco&quot;);\n",
       "      circle_84._popup.options.maxWidth = 300;\n",
       "      map.addLayer(circle_84)\n",
       "      \n",
       "      var circle_85 = L.circle([47.25, 28.58333], 4363.05214073, {\n",
       "                            color: 'None',\n",
       "                            fillColor: 'black',\n",
       "                            fillOpacity: 0.6\n",
       "                            });\n",
       "      circle_85.bindPopup(&quot;Moldova&quot;);\n",
       "      circle_85._popup.options.maxWidth = 300;\n",
       "      map.addLayer(circle_85)\n",
       "      \n",
       "      var circle_86 = L.circle([-20.0, 47.0], 193517.887366, {\n",
       "                            color: 'None',\n",
       "                            fillColor: 'blue',\n",
       "                            fillOpacity: 0.6\n",
       "                            });\n",
       "      circle_86.bindPopup(&quot;Madagascar&quot;);\n",
       "      circle_86._popup.options.maxWidth = 300;\n",
       "      map.addLayer(circle_86)\n",
       "      \n",
       "      var circle_87 = L.circle([3.2, 73.0], 3158.17309813, {\n",
       "                            color: 'None',\n",
       "                            fillColor: 'red',\n",
       "                            fillOpacity: 0.6\n",
       "                            });\n",
       "      circle_87.bindPopup(&quot;Maldives&quot;);\n",
       "      circle_87._popup.options.maxWidth = 300;\n",
       "      map.addLayer(circle_87)\n",
       "      \n",
       "      var circle_88 = L.circle([19.42847, -99.12766], 49757.4659017, {\n",
       "                            color: 'None',\n",
       "                            fillColor: 'green',\n",
       "                            fillOpacity: 0.6\n",
       "                            });\n",
       "      circle_88.bindPopup(&quot;Mexico&quot;);\n",
       "      circle_88._popup.options.maxWidth = 300;\n",
       "      map.addLayer(circle_88)\n",
       "      \n",
       "      var circle_89 = L.circle([41.66667, 21.75], 3420.90583189, {\n",
       "                            color: 'None',\n",
       "                            fillColor: 'black',\n",
       "                            fillOpacity: 0.6\n",
       "                            });\n",
       "      circle_89.bindPopup(&quot;Macedonia, FYR&quot;);\n",
       "      circle_89._popup.options.maxWidth = 300;\n",
       "      map.addLayer(circle_89)\n",
       "      \n",
       "      var circle_90 = L.circle([18.0, -2.0], 124720.320797, {\n",
       "                            color: 'None',\n",
       "                            fillColor: 'blue',\n",
       "                            fillOpacity: 0.6\n",
       "                            });\n",
       "      circle_90.bindPopup(&quot;Mali&quot;);\n",
       "      circle_90._popup.options.maxWidth = 300;\n",
       "      map.addLayer(circle_90)\n",
       "      \n",
       "      var circle_91 = L.circle([42.75, 19.25], 1626.80955147, {\n",
       "                            color: 'None',\n",
       "                            fillColor: 'black',\n",
       "                            fillOpacity: 0.6\n",
       "                            });\n",
       "      circle_91.bindPopup(&quot;Montenegro&quot;);\n",
       "      circle_91._popup.options.maxWidth = 300;\n",
       "      map.addLayer(circle_91)\n",
       "      \n",
       "      var circle_92 = L.circle([-18.25, 35.0], 172977.669795, {\n",
       "                            color: 'None',\n",
       "                            fillColor: 'blue',\n",
       "                            fillOpacity: 0.6\n",
       "                            });\n",
       "      circle_92.bindPopup(&quot;Mozambique&quot;);\n",
       "      circle_92._popup.options.maxWidth = 300;\n",
       "      map.addLayer(circle_92)\n",
       "      \n",
       "      var circle_93 = L.circle([20.25, -10.5], 41293.6386853, {\n",
       "                            color: 'None',\n",
       "                            fillColor: 'blue',\n",
       "                            fillOpacity: 0.6\n",
       "                            });\n",
       "      circle_93.bindPopup(&quot;Mauritania&quot;);\n",
       "      circle_93._popup.options.maxWidth = 300;\n",
       "      map.addLayer(circle_93)\n",
       "      \n",
       "      var circle_94 = L.circle([-13.5, 34.0], 146960.644374, {\n",
       "                            color: 'None',\n",
       "                            fillColor: 'blue',\n",
       "                            fillOpacity: 0.6\n",
       "                            });\n",
       "      circle_94.bindPopup(&quot;Malawi&quot;);\n",
       "      circle_94._popup.options.maxWidth = 300;\n",
       "      map.addLayer(circle_94)\n",
       "      \n",
       "      var circle_95 = L.circle([2.5, 112.5], 0.0, {\n",
       "                            color: 'None',\n",
       "                            fillColor: 'red',\n",
       "                            fillOpacity: 0.6\n",
       "                            });\n",
       "      circle_95.bindPopup(&quot;Malaysia&quot;);\n",
       "      circle_95._popup.options.maxWidth = 300;\n",
       "      map.addLayer(circle_95)\n",
       "      \n",
       "      var circle_96 = L.circle([-22.0, 17.0], 32348.3038486, {\n",
       "                            color: 'None',\n",
       "                            fillColor: 'blue',\n",
       "                            fillOpacity: 0.6\n",
       "                            });\n",
       "      circle_96.bindPopup(&quot;Namibia&quot;);\n",
       "      circle_96._popup.options.maxWidth = 300;\n",
       "      map.addLayer(circle_96)\n",
       "      \n",
       "      var circle_97 = L.circle([18.0, 9.0], 116074.143053, {\n",
       "                            color: 'None',\n",
       "                            fillColor: 'blue',\n",
       "                            fillOpacity: 0.6\n",
       "                            });\n",
       "      circle_97.bindPopup(&quot;Niger&quot;);\n",
       "      circle_97._popup.options.maxWidth = 300;\n",
       "      map.addLayer(circle_97)\n",
       "      \n",
       "      var circle_98 = L.circle([10.0, 8.0], 447655.449921, {\n",
       "                            color: 'None',\n",
       "                            fillColor: 'blue',\n",
       "                            fillOpacity: 0.6\n",
       "                            });\n",
       "      circle_98.bindPopup(&quot;Nigeria&quot;);\n",
       "      circle_98._popup.options.maxWidth = 300;\n",
       "      map.addLayer(circle_98)\n",
       "      \n",
       "      var circle_99 = L.circle([13.0, -85.0], 31511.1032196, {\n",
       "                            color: 'None',\n",
       "                            fillColor: 'green',\n",
       "                            fillOpacity: 0.6\n",
       "                            });\n",
       "      circle_99.bindPopup(&quot;Nicaragua&quot;);\n",
       "      circle_99._popup.options.maxWidth = 300;\n",
       "      map.addLayer(circle_99)\n",
       "      \n",
       "      var circle_100 = L.circle([52.25, 5.75], 10860.8527288, {\n",
       "                            color: 'None',\n",
       "                            fillColor: 'black',\n",
       "                            fillOpacity: 0.6\n",
       "                            });\n",
       "      circle_100.bindPopup(&quot;Netherlands&quot;);\n",
       "      circle_100._popup.options.maxWidth = 300;\n",
       "      map.addLayer(circle_100)\n",
       "      \n",
       "      var circle_101 = L.circle([62.0, 10.0], 8149.10609717, {\n",
       "                            color: 'None',\n",
       "                            fillColor: 'black',\n",
       "                            fillOpacity: 0.6\n",
       "                            });\n",
       "      circle_101.bindPopup(&quot;Norway&quot;);\n",
       "      circle_101._popup.options.maxWidth = 300;\n",
       "      map.addLayer(circle_101)\n",
       "      \n",
       "      var circle_102 = L.circle([28.0, 84.0], 113706.965676, {\n",
       "                            color: 'None',\n",
       "                            fillColor: 'red',\n",
       "                            fillOpacity: 0.6\n",
       "                            });\n",
       "      circle_102.bindPopup(&quot;Nepal&quot;);\n",
       "      circle_102._popup.options.maxWidth = 300;\n",
       "      map.addLayer(circle_102)\n",
       "      \n",
       "      var circle_103 = L.circle([30.0, 70.0], 209522.365744, {\n",
       "                            color: 'None',\n",
       "                            fillColor: 'red',\n",
       "                            fillOpacity: 0.6\n",
       "                            });\n",
       "      circle_103.bindPopup(&quot;Pakistan&quot;);\n",
       "      circle_103._popup.options.maxWidth = 300;\n",
       "      map.addLayer(circle_103)\n",
       "      \n",
       "      var circle_104 = L.circle([8.9936, -79.51973], 17109.4450796, {\n",
       "                            color: 'None',\n",
       "                            fillColor: 'green',\n",
       "                            fillOpacity: 0.6\n",
       "                            });\n",
       "      circle_104.bindPopup(&quot;Panama&quot;);\n",
       "      circle_104._popup.options.maxWidth = 300;\n",
       "      map.addLayer(circle_104)\n",
       "      \n",
       "      var circle_105 = L.circle([-10.0, -75.25], 41475.6193809, {\n",
       "                            color: 'None',\n",
       "                            fillColor: 'green',\n",
       "                            fillOpacity: 0.6\n",
       "                            });\n",
       "      circle_105.bindPopup(&quot;Peru&quot;);\n",
       "      circle_105._popup.options.maxWidth = 300;\n",
       "      map.addLayer(circle_105)\n",
       "      \n",
       "      var circle_106 = L.circle([13.0, 122.0], 189067.369579, {\n",
       "                            color: 'None',\n",
       "                            fillColor: 'red',\n",
       "                            fillOpacity: 0.6\n",
       "                            });\n",
       "      circle_106.bindPopup(&quot;Philippines&quot;);\n",
       "      circle_106._popup.options.maxWidth = 300;\n",
       "      map.addLayer(circle_106)\n",
       "      \n",
       "      var circle_107 = L.circle([-6.0, 147.0], 70471.3358896, {\n",
       "                            color: 'None',\n",
       "                            fillColor: 'red',\n",
       "                            fillOpacity: 0.6\n",
       "                            });\n",
       "      circle_107.bindPopup(&quot;Papua New Guinea&quot;);\n",
       "      circle_107._popup.options.maxWidth = 300;\n",
       "      map.addLayer(circle_107)\n",
       "      \n",
       "      var circle_108 = L.circle([52.0, 20.0], 0.0, {\n",
       "                            color: 'None',\n",
       "                            fillColor: 'black',\n",
       "                            fillOpacity: 0.6\n",
       "                            });\n",
       "      circle_108.bindPopup(&quot;Poland&quot;);\n",
       "      circle_108._popup.options.maxWidth = 300;\n",
       "      map.addLayer(circle_108)\n",
       "      \n",
       "      var circle_109 = L.circle([-23.33333, -58.0], 19526.6446646, {\n",
       "                            color: 'None',\n",
       "                            fillColor: 'green',\n",
       "                            fillOpacity: 0.6\n",
       "                            });\n",
       "      circle_109.bindPopup(&quot;Paraguay&quot;);\n",
       "      circle_109._popup.options.maxWidth = 300;\n",
       "      map.addLayer(circle_109)\n",
       "      \n",
       "      var circle_110 = L.circle([31.92157, 35.20329], 2568.26966168, {\n",
       "                            color: 'None',\n",
       "                            fillColor: 'red',\n",
       "                            fillOpacity: 0.6\n",
       "                            });\n",
       "      circle_110.bindPopup(&quot;Palestine&quot;);\n",
       "      circle_110._popup.options.maxWidth = 300;\n",
       "      map.addLayer(circle_110)\n",
       "      \n",
       "      var circle_111 = L.circle([46.0, 25.0], 0.0, {\n",
       "                            color: 'None',\n",
       "                            fillColor: 'black',\n",
       "                            fillOpacity: 0.6\n",
       "                            });\n",
       "      circle_111.bindPopup(&quot;Romania&quot;);\n",
       "      circle_111._popup.options.maxWidth = 300;\n",
       "      map.addLayer(circle_111)\n",
       "      \n",
       "      var circle_112 = L.circle([60.0, 100.0], 9328.92370414, {\n",
       "                            color: 'None',\n",
       "                            fillColor: 'black',\n",
       "                            fillOpacity: 0.6\n",
       "                            });\n",
       "      circle_112.bindPopup(&quot;Russia&quot;);\n",
       "      circle_112._popup.options.maxWidth = 300;\n",
       "      map.addLayer(circle_112)\n",
       "      \n",
       "      var circle_113 = L.circle([-2.0, 30.0], 114654.054509, {\n",
       "                            color: 'None',\n",
       "                            fillColor: 'blue',\n",
       "                            fillOpacity: 0.6\n",
       "                            });\n",
       "      circle_113.bindPopup(&quot;Rwanda&quot;);\n",
       "      circle_113._popup.options.maxWidth = 300;\n",
       "      map.addLayer(circle_113)\n",
       "      \n",
       "      var circle_114 = L.circle([16.0, 30.0], 120376.255962, {\n",
       "                            color: 'None',\n",
       "                            fillColor: 'blue',\n",
       "                            fillOpacity: 0.6\n",
       "                            });\n",
       "      circle_114.bindPopup(&quot;Sudan&quot;);\n",
       "      circle_114._popup.options.maxWidth = 300;\n",
       "      map.addLayer(circle_114)\n",
       "      \n",
       "      var circle_115 = L.circle([14.5, -14.25], 94566.2511758, {\n",
       "                            color: 'None',\n",
       "                            fillColor: 'blue',\n",
       "                            fillOpacity: 0.6\n",
       "                            });\n",
       "      circle_115.bindPopup(&quot;Senegal&quot;);\n",
       "      circle_115._popup.options.maxWidth = 300;\n",
       "      map.addLayer(circle_115)\n",
       "      \n",
       "      var circle_116 = L.circle([8.5, -11.5], 81413.8502133, {\n",
       "                            color: 'None',\n",
       "                            fillColor: 'blue',\n",
       "                            fillOpacity: 0.6\n",
       "                            });\n",
       "      circle_116.bindPopup(&quot;Sierra Leone&quot;);\n",
       "      circle_116._popup.options.maxWidth = 300;\n",
       "      map.addLayer(circle_116)\n",
       "      \n",
       "      var circle_117 = L.circle([13.83333, -88.91667], 17594.7355217, {\n",
       "                            color: 'None',\n",
       "                            fillColor: 'green',\n",
       "                            fillOpacity: 0.6\n",
       "                            });\n",
       "      circle_117.bindPopup(&quot;El Salvador&quot;);\n",
       "      circle_117._popup.options.maxWidth = 300;\n",
       "      map.addLayer(circle_117)\n",
       "      \n",
       "      var circle_118 = L.circle([44.81892, 20.45998], 3029.80184798, {\n",
       "                            color: 'None',\n",
       "                            fillColor: 'black',\n",
       "                            fillOpacity: 0.6\n",
       "                            });\n",
       "      circle_118.bindPopup(&quot;Serbia&quot;);\n",
       "      circle_118._popup.options.maxWidth = 300;\n",
       "      map.addLayer(circle_118)\n",
       "      \n",
       "      var circle_119 = L.circle([1.0, 7.0], 12277.3571456, {\n",
       "                            color: 'None',\n",
       "                            fillColor: 'blue',\n",
       "                            fillOpacity: 0.6\n",
       "                            });\n",
       "      circle_119.bindPopup(&quot;Sao Tome and Principe&quot;);\n",
       "      circle_119._popup.options.maxWidth = 300;\n",
       "      map.addLayer(circle_119)\n",
       "      \n",
       "      var circle_120 = L.circle([4.0, -56.0], 12773.6293869, {\n",
       "                            color: 'None',\n",
       "                            fillColor: 'green',\n",
       "                            fillOpacity: 0.6\n",
       "                            });\n",
       "      circle_120.bindPopup(&quot;Suriname&quot;);\n",
       "      circle_120._popup.options.maxWidth = 300;\n",
       "      map.addLayer(circle_120)\n",
       "      \n",
       "      var circle_121 = L.circle([48.66667, 19.5], 5733.29036394, {\n",
       "                            color: 'None',\n",
       "                            fillColor: 'black',\n",
       "                            fillOpacity: 0.6\n",
       "                            });\n",
       "      circle_121.bindPopup(&quot;Slovak Republic&quot;);\n",
       "      circle_121._popup.options.maxWidth = 300;\n",
       "      map.addLayer(circle_121)\n",
       "      \n",
       "      var circle_122 = L.circle([46.08333, 15.0], 0.0, {\n",
       "                            color: 'None',\n",
       "                            fillColor: 'black',\n",
       "                            fillOpacity: 0.6\n",
       "                            });\n",
       "      circle_122.bindPopup(&quot;Slovenia&quot;);\n",
       "      circle_122._popup.options.maxWidth = 300;\n",
       "      map.addLayer(circle_122)\n",
       "      \n",
       "      var circle_123 = L.circle([62.0, 15.0], 8157.43222889, {\n",
       "                            color: 'None',\n",
       "                            fillColor: 'black',\n",
       "                            fillOpacity: 0.6\n",
       "                            });\n",
       "      circle_123.bindPopup(&quot;Sweden&quot;);\n",
       "      circle_123._popup.options.maxWidth = 300;\n",
       "      map.addLayer(circle_123)\n",
       "      \n",
       "      var circle_124 = L.circle([-26.5, 31.5], 30825.3831308, {\n",
       "                            color: 'None',\n",
       "                            fillColor: 'blue',\n",
       "                            fillOpacity: 0.6\n",
       "                            });\n",
       "      circle_124.bindPopup(&quot;Swaziland&quot;);\n",
       "      circle_124._popup.options.maxWidth = 300;\n",
       "      map.addLayer(circle_124)\n",
       "      \n",
       "      var circle_125 = L.circle([-4.58333, 55.66667], 687.136606341, {\n",
       "                            color: 'None',\n",
       "                            fillColor: 'blue',\n",
       "                            fillOpacity: 0.6\n",
       "                            });\n",
       "      circle_125.bindPopup(&quot;Seychelles&quot;);\n",
       "      circle_125._popup.options.maxWidth = 300;\n",
       "      map.addLayer(circle_125)\n",
       "      \n",
       "      var circle_126 = L.circle([35.0, 38.0], 26795.6430901, {\n",
       "                            color: 'None',\n",
       "                            fillColor: 'red',\n",
       "                            fillOpacity: 0.6\n",
       "                            });\n",
       "      circle_126.bindPopup(&quot;Syria&quot;);\n",
       "      circle_126._popup.options.maxWidth = 300;\n",
       "      map.addLayer(circle_126)\n",
       "      \n",
       "      var circle_127 = L.circle([15.0, 19.0], 93829.1808515, {\n",
       "                            color: 'None',\n",
       "                            fillColor: 'blue',\n",
       "                            fillOpacity: 0.6\n",
       "                            });\n",
       "      circle_127.bindPopup(&quot;Chad&quot;);\n",
       "      circle_127._popup.options.maxWidth = 300;\n",
       "      map.addLayer(circle_127)\n",
       "      \n",
       "      var circle_128 = L.circle([8.66667, 1.08333], 82424.9298606, {\n",
       "                            color: 'None',\n",
       "                            fillColor: 'blue',\n",
       "                            fillOpacity: 0.6\n",
       "                            });\n",
       "      circle_128.bindPopup(&quot;Togo&quot;);\n",
       "      circle_128._popup.options.maxWidth = 300;\n",
       "      map.addLayer(circle_128)\n",
       "      \n",
       "      var circle_129 = L.circle([15.5, 101.0], 20468.3404858, {\n",
       "                            color: 'None',\n",
       "                            fillColor: 'red',\n",
       "                            fillOpacity: 0.6\n",
       "                            });\n",
       "      circle_129.bindPopup(&quot;Thailand&quot;);\n",
       "      circle_129._popup.options.maxWidth = 300;\n",
       "      map.addLayer(circle_129)\n",
       "      \n",
       "      var circle_130 = L.circle([39.0, 71.0], 31528.3009816, {\n",
       "                            color: 'None',\n",
       "                            fillColor: 'red',\n",
       "                            fillOpacity: 0.6\n",
       "                            });\n",
       "      circle_130.bindPopup(&quot;Tajikistan&quot;);\n",
       "      circle_130._popup.options.maxWidth = 300;\n",
       "      map.addLayer(circle_130)\n",
       "      \n",
       "      var circle_131 = L.circle([39.75, 59.66667], 50357.8513436, {\n",
       "                            color: 'None',\n",
       "                            fillColor: 'red',\n",
       "                            fillOpacity: 0.6\n",
       "                            });\n",
       "      circle_131.bindPopup(&quot;Turkmenistan&quot;);\n",
       "      circle_131._popup.options.maxWidth = 300;\n",
       "      map.addLayer(circle_131)\n",
       "      \n",
       "      var circle_132 = L.circle([-8.83333, 125.75], 27330.8660938, {\n",
       "                            color: 'None',\n",
       "                            fillColor: 'red',\n",
       "                            fillOpacity: 0.6\n",
       "                            });\n",
       "      circle_132.bindPopup(&quot;Timor-Leste&quot;);\n",
       "      circle_132._popup.options.maxWidth = 300;\n",
       "      map.addLayer(circle_132)\n",
       "      \n",
       "      var circle_133 = L.circle([11.0, -61.0], 10581.0151451, {\n",
       "                            color: 'None',\n",
       "                            fillColor: 'green',\n",
       "                            fillOpacity: 0.6\n",
       "                            });\n",
       "      circle_133.bindPopup(&quot;Trinidad and Tobago&quot;);\n",
       "      circle_133._popup.options.maxWidth = 300;\n",
       "      map.addLayer(circle_133)\n",
       "      \n",
       "      var circle_134 = L.circle([34.0, 9.0], 12630.9277475, {\n",
       "                            color: 'None',\n",
       "                            fillColor: 'blue',\n",
       "                            fillOpacity: 0.6\n",
       "                            });\n",
       "      circle_134.bindPopup(&quot;Tunisia&quot;);\n",
       "      circle_134._popup.options.maxWidth = 300;\n",
       "      map.addLayer(circle_134)\n",
       "      \n",
       "      var circle_135 = L.circle([39.0, 35.0], 10827.0289843, {\n",
       "                            color: 'None',\n",
       "                            fillColor: 'black',\n",
       "                            fillOpacity: 0.6\n",
       "                            });\n",
       "      circle_135.bindPopup(&quot;Turkey&quot;);\n",
       "      circle_135._popup.options.maxWidth = 300;\n",
       "      map.addLayer(circle_135)\n",
       "      \n",
       "      var circle_136 = L.circle([-6.0, 35.0], 200550.279241, {\n",
       "                            color: 'None',\n",
       "                            fillColor: 'blue',\n",
       "                            fillOpacity: 0.6\n",
       "                            });\n",
       "      circle_136.bindPopup(&quot;Tanzania&quot;);\n",
       "      circle_136._popup.options.maxWidth = 300;\n",
       "      map.addLayer(circle_136)\n",
       "      \n",
       "      var circle_137 = L.circle([1.25, 32.5], 159306.704552, {\n",
       "                            color: 'None',\n",
       "                            fillColor: 'blue',\n",
       "                            fillOpacity: 0.6\n",
       "                            });\n",
       "      circle_137.bindPopup(&quot;Uganda&quot;);\n",
       "      circle_137._popup.options.maxWidth = 300;\n",
       "      map.addLayer(circle_137)\n",
       "      \n",
       "      var circle_138 = L.circle([49.0, 32.0], 0.0, {\n",
       "                            color: 'None',\n",
       "                            fillColor: 'black',\n",
       "                            fillOpacity: 0.6\n",
       "                            });\n",
       "      circle_138.bindPopup(&quot;Ukraine&quot;);\n",
       "      circle_138._popup.options.maxWidth = 300;\n",
       "      map.addLayer(circle_138)\n",
       "      \n",
       "      var circle_139 = L.circle([-33.0, -56.0], 4604.17398038, {\n",
       "                            color: 'None',\n",
       "                            fillColor: 'green',\n",
       "                            fillOpacity: 0.6\n",
       "                            });\n",
       "      circle_139.bindPopup(&quot;Uruguay&quot;);\n",
       "      circle_139._popup.options.maxWidth = 300;\n",
       "      map.addLayer(circle_139)\n",
       "      \n",
       "      var circle_140 = L.circle([39.76, -98.5], 102404.124478, {\n",
       "                            color: 'None',\n",
       "                            fillColor: 'green',\n",
       "                            fillOpacity: 0.6\n",
       "                            });\n",
       "      circle_140.bindPopup(&quot;United States&quot;);\n",
       "      circle_140._popup.options.maxWidth = 300;\n",
       "      map.addLayer(circle_140)\n",
       "      \n",
       "      var circle_141 = L.circle([8.0, -66.0], 62415.0089666, {\n",
       "                            color: 'None',\n",
       "                            fillColor: 'green',\n",
       "                            fillOpacity: 0.6\n",
       "                            });\n",
       "      circle_141.bindPopup(&quot;Venezuela&quot;);\n",
       "      circle_141._popup.options.maxWidth = 300;\n",
       "      map.addLayer(circle_141)\n",
       "      \n",
       "      var circle_142 = L.circle([16.16667, 107.83333], 66097.1072665, {\n",
       "                            color: 'None',\n",
       "                            fillColor: 'red',\n",
       "                            fillOpacity: 0.6\n",
       "                            });\n",
       "      circle_142.bindPopup(&quot;Vietnam&quot;);\n",
       "      circle_142._popup.options.maxWidth = 300;\n",
       "      map.addLayer(circle_142)\n",
       "      \n",
       "      var circle_143 = L.circle([15.5, 47.5], 68378.0462447, {\n",
       "                            color: 'None',\n",
       "                            fillColor: 'red',\n",
       "                            fillOpacity: 0.6\n",
       "                            });\n",
       "      circle_143.bindPopup(&quot;Yemen&quot;);\n",
       "      circle_143._popup.options.maxWidth = 300;\n",
       "      map.addLayer(circle_143)\n",
       "      \n",
       "      var circle_144 = L.circle([-29.0, 24.0], 99267.3149674, {\n",
       "                            color: 'None',\n",
       "                            fillColor: 'blue',\n",
       "                            fillOpacity: 0.6\n",
       "                            });\n",
       "      circle_144.bindPopup(&quot;South Africa&quot;);\n",
       "      circle_144._popup.options.maxWidth = 300;\n",
       "      map.addLayer(circle_144)\n",
       "      \n",
       "      var circle_145 = L.circle([-14.33333, 28.5], 144776.357535, {\n",
       "                            color: 'None',\n",
       "                            fillColor: 'blue',\n",
       "                            fillOpacity: 0.6\n",
       "                            });\n",
       "      circle_145.bindPopup(&quot;Zambia&quot;);\n",
       "      circle_145._popup.options.maxWidth = 300;\n",
       "      map.addLayer(circle_145)\n",
       "      \n",
       "\n",
       "      \n",
       "\n",
       "      \n",
       "\n",
       "      \n",
       "\n",
       "      \n",
       "\n",
       "\n",
       "\n",
       "   </script>\n",
       "\n",
       "</body>\" style=\"width: 960px; height: 500px\"; border: none\"></iframe>"
      ],
      "text/plain": [
       "<datascience.maps.Map at 0x7f8b3c1b5668>"
      ]
     },
     "execution_count": 45,
     "metadata": {},
     "output_type": "execute_result"
    }
   ],
   "source": [
    "colors = {'africa': 'blue', 'europe': 'black', 'asia': 'red', 'americas': 'green'}\n",
    "scaled = poverty_map.with_column(\n",
    "    'poverty_total', 2e4 * poverty_map.column('poverty_total'),\n",
    "    'region', poverty_map.apply(colors.get, 'region')\n",
    ")\n",
    "Circle.map_table(scaled)"
   ]
  },
  {
   "cell_type": "markdown",
   "metadata": {
    "deletable": false,
    "editable": false
   },
   "source": [
    "Although people live in extreme poverty throughout the world (with more than 5 million in the United States), the largest numbers are in Asia and Africa."
   ]
  },
  {
   "cell_type": "markdown",
   "metadata": {
    "deletable": false,
    "editable": false
   },
   "source": [
    "**Question 5.** Assign `largest` to a two-column table with the `name` (not the 3-letter code) and `poverty_total` of the 10 countries with the largest number of people living in extreme poverty."
   ]
  },
  {
   "cell_type": "code",
   "execution_count": 46,
   "metadata": {
    "deletable": false,
    "scrolled": true
   },
   "outputs": [
    {
     "data": {
      "text/html": [
       "<table border=\"1\" class=\"dataframe\">\n",
       "    <thead>\n",
       "        <tr>\n",
       "            <th>name</th> <th>poverty_total</th>\n",
       "        </tr>\n",
       "    </thead>\n",
       "    <tbody>\n",
       "        <tr>\n",
       "            <td>India           </td> <td>2.90882e+08  </td>\n",
       "        </tr>\n",
       "    </tbody>\n",
       "        <tr>\n",
       "            <td>Nigeria         </td> <td>9.88912e+07  </td>\n",
       "        </tr>\n",
       "    </tbody>\n",
       "        <tr>\n",
       "            <td>China           </td> <td>8.39446e+07  </td>\n",
       "        </tr>\n",
       "    </tbody>\n",
       "        <tr>\n",
       "            <td>Bangladesh      </td> <td>6.55743e+07  </td>\n",
       "        </tr>\n",
       "    </tbody>\n",
       "        <tr>\n",
       "            <td>Congo, Dem. Rep.</td> <td>5.78414e+07  </td>\n",
       "        </tr>\n",
       "    </tbody>\n",
       "        <tr>\n",
       "            <td>Indonesia       </td> <td>3.91413e+07  </td>\n",
       "        </tr>\n",
       "    </tbody>\n",
       "        <tr>\n",
       "            <td>Ethiopia        </td> <td>3.2214e+07   </td>\n",
       "        </tr>\n",
       "    </tbody>\n",
       "        <tr>\n",
       "            <td>Pakistan        </td> <td>2.16636e+07  </td>\n",
       "        </tr>\n",
       "    </tbody>\n",
       "        <tr>\n",
       "            <td>Tanzania        </td> <td>1.9848e+07   </td>\n",
       "        </tr>\n",
       "    </tbody>\n",
       "        <tr>\n",
       "            <td>Madagascar      </td> <td>1.84804e+07  </td>\n",
       "        </tr>\n",
       "    </tbody>\n",
       "</table>"
      ],
      "text/plain": [
       "name             | poverty_total\n",
       "India            | 2.90882e+08\n",
       "Nigeria          | 9.88912e+07\n",
       "China            | 8.39446e+07\n",
       "Bangladesh       | 6.55743e+07\n",
       "Congo, Dem. Rep. | 5.78414e+07\n",
       "Indonesia        | 3.91413e+07\n",
       "Ethiopia         | 3.2214e+07\n",
       "Pakistan         | 2.16636e+07\n",
       "Tanzania         | 1.9848e+07\n",
       "Madagascar       | 1.84804e+07"
      ]
     },
     "execution_count": 46,
     "metadata": {},
     "output_type": "execute_result"
    }
   ],
   "source": [
    "import numpy as np\n",
    "largest = poverty_map.select(2, 4).sort(1, descending=True).take(np.arange(0, 10, 1))\n",
    "largest"
   ]
  },
  {
   "cell_type": "code",
   "execution_count": 47,
   "metadata": {
    "deletable": false,
    "editable": false
   },
   "outputs": [
    {
     "name": "stdout",
     "output_type": "stream",
     "text": [
      "~~~~~~~~~~~~~~~~~~~~~~~~~~~~~~~~~~~~~~~~~~~~~~~~~~~~~~~~~~~~~~~~~~~~~\n",
      "Running tests\n",
      "\n",
      "---------------------------------------------------------------------\n",
      "Test summary\n",
      "    Passed: 3\n",
      "    Failed: 0\n",
      "[ooooooooook] 100.0% passed\n",
      "\n"
     ]
    }
   ],
   "source": [
    "_ = ok.grade('q2_5')"
   ]
  },
  {
   "cell_type": "markdown",
   "metadata": {
    "deletable": false,
    "editable": false
   },
   "source": [
    "**Question 6.** Write a function called `poverty_timeline` that takes the name of a country as its argument. It should draw a line plot of the number of people living in poverty in that country with time on the horizontal axis. The line plot should have a point for each row in the `poverty` table for that country. To compute the population living in poverty from a poverty percentage, multiply by the population of the country **in that year**.\n",
    "\n",
    "*Hint*: The names within the `poverty_timeline` function correspond to our staff solution, but you don't need to use them. Any way that you want to draw the plot is fine, as long as it generates the correct graph."
   ]
  },
  {
   "cell_type": "code",
   "execution_count": 116,
   "metadata": {
    "deletable": false,
    "manual_grade": true,
    "manual_problem_id": "global_poverty_6"
   },
   "outputs": [
    {
     "data": {
      "image/png": "[encoded data removed]",
      "text/plain": [
       "<matplotlib.figure.Figure at 0x7f8b33e59828>"
      ]
     },
     "metadata": {},
     "output_type": "display_data"
    }
   ],
   "source": [
    "def population_for_country_in_year(row_of_poverty_table):\n",
    "    \"\"\"Optional: Define a function to return the population \n",
    "    of a country in a year using a row from the poverty table.\"\"\"\n",
    "    country_poverty = poverty.where('geo', are.equal_to(row_of_poverty_table))\n",
    "    pop = population.where('geo', are.contained_in(country_poverty.column('geo')))\n",
    "    return pop\n",
    "\n",
    "def poverty_timeline(country):\n",
    "    \"\"\"Draw a timeline of people living in extreme poverty in a country.\"\"\"\n",
    "    geo = countries.where('name', country).column('country').item(0)\n",
    "    country_poverty = poverty.where('geo', geo)\n",
    "    joined = population.where('geo', geo).join('time', country_poverty)\n",
    "    joined = joined.with_column('num_poverty', \n",
    "                                joined.column('population_total')*joined.column('extreme_poverty_percent_people_below_125_a_day')/100)\n",
    "    return joined.plot('time', 'num_poverty')\n",
    "\n",
    "poverty_timeline('Bangladesh')\n"
   ]
  },
  {
   "cell_type": "markdown",
   "metadata": {
    "deletable": false,
    "editable": false
   },
   "source": [
    "Finally, draw the timelines below to see how the world is changing. You can check your work by comparing your graphs to the ones on [gapminder.org](https://goo.gl/lPujuh)."
   ]
  },
  {
   "cell_type": "code",
   "execution_count": 117,
   "metadata": {
    "deletable": false,
    "editable": false
   },
   "outputs": [
    {
     "data": {
      "image/png": "[encoded data removed]",
      "text/plain": [
       "<matplotlib.figure.Figure at 0x7f8b3437ec50>"
      ]
     },
     "metadata": {},
     "output_type": "display_data"
    }
   ],
   "source": [
    "poverty_timeline('India')"
   ]
  },
  {
   "cell_type": "code",
   "execution_count": 118,
   "metadata": {
    "deletable": false,
    "editable": false
   },
   "outputs": [
    {
     "data": {
      "image/png": "[encoded data removed]",
      "text/plain": [
       "<matplotlib.figure.Figure at 0x7f8b3427d630>"
      ]
     },
     "metadata": {},
     "output_type": "display_data"
    }
   ],
   "source": [
    "poverty_timeline('Nigeria')"
   ]
  },
  {
   "cell_type": "code",
   "execution_count": 119,
   "metadata": {
    "deletable": false,
    "editable": false
   },
   "outputs": [
    {
     "data": {
      "image/png": "[encoded data removed]",
      "text/plain": [
       "<matplotlib.figure.Figure at 0x7f8b3420acc0>"
      ]
     },
     "metadata": {},
     "output_type": "display_data"
    }
   ],
   "source": [
    "poverty_timeline('China')"
   ]
  },
  {
   "cell_type": "code",
   "execution_count": 120,
   "metadata": {
    "deletable": false,
    "editable": false
   },
   "outputs": [
    {
     "data": {
      "image/png": "[encoded data removed]",
      "text/plain": [
       "<matplotlib.figure.Figure at 0x7f8b34231cc0>"
      ]
     },
     "metadata": {},
     "output_type": "display_data"
    }
   ],
   "source": [
    "poverty_timeline('United States')"
   ]
  },
  {
   "cell_type": "markdown",
   "metadata": {
    "deletable": false,
    "editable": false
   },
   "source": [
    "Although the number of people living in extreme poverty has been increasing in Nigeria and the United States, the massive decreases in China and India have shaped the overall trend that extreme poverty is decreasing worldwide, both in percentage and in absolute number. \n",
    "\n",
    "To learn more, watch [Hans Rosling in a 2015 film](https://www.gapminder.org/videos/dont-panic-end-poverty/) about the UN goal of eradicating extreme poverty from the world. \n",
    "\n",
    "Below, we've also added an interactive dropdown menu for you to visualize `poverty_timeline` graphs for other countries. Note that each dropdown menu selection may take a few seconds to run."
   ]
  },
  {
   "cell_type": "code",
   "execution_count": 122,
   "metadata": {},
   "outputs": [
    {
     "data": {
      "image/png": "[encoded data removed]",
      "text/plain": [
       "<matplotlib.figure.Figure at 0x7f8b33f86860>"
      ]
     },
     "metadata": {},
     "output_type": "display_data"
    }
   ],
   "source": [
    "# Just run this cell\n",
    "\n",
    "all_countries = poverty_map.column('name')\n",
    "_ = widgets.interact(poverty_timeline, country=list(all_countries))"
   ]
  },
  {
   "cell_type": "markdown",
   "metadata": {
    "deletable": false,
    "editable": false
   },
   "source": [
    "**You're finished!** Congratulations on mastering data visualization and table manipulation. Time to submit."
   ]
  },
  {
   "cell_type": "code",
   "execution_count": null,
   "metadata": {
    "deletable": false,
    "editable": false
   },
   "outputs": [],
   "source": [
    "_ = ok.submit()"
   ]
  },
  {
   "cell_type": "code",
   "execution_count": null,
   "metadata": {
    "collapsed": true
   },
   "outputs": [],
   "source": []
  }
 ],
 "metadata": {
  "kernelspec": {
   "display_name": "Python 3",
   "language": "python",
   "name": "python3"
  },
  "language_info": {
   "codemirror_mode": {
    "name": "ipython",
    "version": 3
   },
   "file_extension": ".py",
   "mimetype": "text/x-python",
   "name": "python",
   "nbconvert_exporter": "python",
   "pygments_lexer": "ipython3",
   "version": "3.6.1"
  }
 },
 "nbformat": 4,
 "nbformat_minor": 1
}
